{
 "cells": [
  {
   "cell_type": "markdown",
   "id": "7ed4b869",
   "metadata": {},
   "source": [
    "## If-else "
   ]
  },
  {
   "cell_type": "code",
   "execution_count": null,
   "id": "f6fd8065",
   "metadata": {},
   "outputs": [],
   "source": []
  },
  {
   "cell_type": "code",
   "execution_count": 11,
   "id": "bb533a15",
   "metadata": {},
   "outputs": [
    {
     "name": "stdout",
     "output_type": "stream",
     "text": [
      "Enter digit : 10\n",
      "Digit is positive\n"
     ]
    }
   ],
   "source": [
    "\n",
    "digit =int(input(\"Enter digit : \"))\n",
    "if digit > 0:\n",
    "    print(\"Digit is positive\")\n",
    "elif digit==0:\n",
    "    print(\"Digit is zero\")\n",
    "else:\n",
    "    print(\"Digit is negative\") "
   ]
  },
  {
   "cell_type": "markdown",
   "id": "0b3cd076",
   "metadata": {},
   "source": [
    "### wap that the takes two number as input form the user and also asks which arithmetic operation they need to perform on them(+,-,*,/). and prints the result according to their chocie (use if-elif-else)\n"
   ]
  },
  {
   "cell_type": "code",
   "execution_count": 12,
   "id": "c03f6bf1",
   "metadata": {},
   "outputs": [
    {
     "name": "stdout",
     "output_type": "stream",
     "text": [
      "Enter 1st number : 01\n",
      "Enter 2nd number : 01\n",
      "Enter operation(+,-,*,/) : =\n",
      "Please enter correct operation or digits\n"
     ]
    }
   ],
   "source": [
    "\n",
    "    num1 = int(input(\"Enter 1st number : \"))\n",
    "    num2 = int(input(\"Enter 2nd number : \"))\n",
    "    op = input(\"Enter operation(+,-,*,/) : \")\n",
    "\n",
    "    if op=='+':\n",
    "         print(num1+num2)\n",
    "    elif op=='-':\n",
    "        print(num1-num2)\n",
    "    elif op=='*':\n",
    "        print(num1*num2)\n",
    "    elif op=='/':\n",
    "        print(num1/num2)\n",
    "    else:\n",
    "        print(\"Please enter correct operation or digits\")"
   ]
  },
  {
   "cell_type": "code",
   "execution_count": null,
   "id": "0f9d8398",
   "metadata": {},
   "outputs": [],
   "source": []
  },
  {
   "cell_type": "markdown",
   "id": "e234c623",
   "metadata": {},
   "source": [
    "# For loop\n",
    "##### for val in sequence: \n",
    "        loop body"
   ]
  },
  {
   "cell_type": "code",
   "execution_count": 21,
   "id": "fa5adb7b",
   "metadata": {},
   "outputs": [
    {
     "name": "stdout",
     "output_type": "stream",
     "text": [
      "68\n"
     ]
    }
   ],
   "source": [
    "# sum of element in list\n",
    "ls = [1,3,5,7,8,10,34]\n",
    "sum=0\n",
    "for n in ls:\n",
    "    sum=sum+n\n",
    "print(sum)"
   ]
  },
  {
   "cell_type": "code",
   "execution_count": 26,
   "id": "4f65f728",
   "metadata": {},
   "outputs": [
    {
     "name": "stdout",
     "output_type": "stream",
     "text": [
      "h\n",
      "e\n",
      "l\n",
      "l\n",
      "o\n"
     ]
    }
   ],
   "source": [
    "# print character of string\n",
    "st = \"hello\"\n",
    "for n in st:\n",
    "    print(n)\n"
   ]
  },
  {
   "cell_type": "code",
   "execution_count": 33,
   "id": "0da35f8a",
   "metadata": {},
   "outputs": [
    {
     "name": "stdout",
     "output_type": "stream",
     "text": [
      "hll 0\n",
      "hll 1\n",
      "hll 2\n"
     ]
    }
   ],
   "source": [
    "# iterate using range function\n",
    "for i in range(3):  \n",
    "    # i = 0,1,2\n",
    "    print(\"hll\",i)"
   ]
  },
  {
   "cell_type": "code",
   "execution_count": 34,
   "id": "59252cb0",
   "metadata": {},
   "outputs": [
    {
     "name": "stdout",
     "output_type": "stream",
     "text": [
      "1 hello\n",
      "2 hello\n"
     ]
    }
   ],
   "source": [
    "for i in range(1,3):\n",
    "    print(i,\"hello\")"
   ]
  },
  {
   "cell_type": "code",
   "execution_count": 36,
   "id": "29068c93",
   "metadata": {},
   "outputs": [
    {
     "name": "stdout",
     "output_type": "stream",
     "text": [
      "1 hello\n",
      "3 hello\n",
      "5 hello\n"
     ]
    }
   ],
   "source": [
    "for i in range(1,7,2):\n",
    "    print(i,\"hello\")"
   ]
  },
  {
   "cell_type": "code",
   "execution_count": 41,
   "id": "c6635ec1",
   "metadata": {},
   "outputs": [
    {
     "name": "stdout",
     "output_type": "stream",
     "text": [
      "[0, 1, 2, 3, 4, 5, 6, 7, 8, 9]\n"
     ]
    }
   ],
   "source": [
    "ls = []\n",
    "for i in range(10):\n",
    "    ls.append(i)\n",
    "print(ls)"
   ]
  },
  {
   "cell_type": "code",
   "execution_count": 46,
   "id": "99a3807d",
   "metadata": {},
   "outputs": [],
   "source": [
    "ls =list(range(20))"
   ]
  },
  {
   "cell_type": "code",
   "execution_count": 47,
   "id": "76aaaa50",
   "metadata": {},
   "outputs": [
    {
     "data": {
      "text/plain": [
       "[0, 1, 2, 3, 4, 5, 6, 7, 8, 9, 10, 11, 12, 13, 14, 15, 16, 17, 18, 19]"
      ]
     },
     "execution_count": 47,
     "metadata": {},
     "output_type": "execute_result"
    }
   ],
   "source": [
    "ls"
   ]
  },
  {
   "cell_type": "code",
   "execution_count": null,
   "id": "7048e9bf",
   "metadata": {},
   "outputs": [],
   "source": []
  },
  {
   "cell_type": "code",
   "execution_count": null,
   "id": "f8f18b49",
   "metadata": {},
   "outputs": [],
   "source": []
  },
  {
   "cell_type": "code",
   "execution_count": 52,
   "id": "603f8600",
   "metadata": {
    "scrolled": true
   },
   "outputs": [
    {
     "name": "stdout",
     "output_type": "stream",
     "text": [
      "student whose roll no : 1 is a\n",
      "student whose roll no : 2 is b\n",
      "student whose roll no : 3 is c\n"
     ]
    }
   ],
   "source": [
    "names = [\"a\",\"b\",\"c\"]\n",
    "for i in range(len(names)):\n",
    "    print(\"student whose roll no :\" ,i+1,\"is\",names[i])"
   ]
  },
  {
   "cell_type": "code",
   "execution_count": null,
   "id": "9145907d",
   "metadata": {},
   "outputs": [],
   "source": []
  },
  {
   "cell_type": "code",
   "execution_count": null,
   "id": "de77bddc",
   "metadata": {},
   "outputs": [],
   "source": []
  },
  {
   "cell_type": "code",
   "execution_count": null,
   "id": "fdb1ac00",
   "metadata": {},
   "outputs": [],
   "source": []
  },
  {
   "cell_type": "markdown",
   "id": "3f737f8c",
   "metadata": {},
   "source": [
    "## While LOOP"
   ]
  },
  {
   "cell_type": "code",
   "execution_count": 2,
   "id": "ae9b54a6",
   "metadata": {},
   "outputs": [
    {
     "name": "stdout",
     "output_type": "stream",
     "text": [
      "apple\n",
      "banana\n",
      "cherry\n"
     ]
    }
   ],
   "source": [
    "mylist = [\"apple\", \"banana\", \"cherry\"]\n",
    "i=0\n",
    "while i<len(mylist):\n",
    "    print(mylist[i])\n",
    "    i+=1"
   ]
  },
  {
   "cell_type": "code",
   "execution_count": 10,
   "id": "199947b5",
   "metadata": {},
   "outputs": [
    {
     "name": "stdout",
     "output_type": "stream",
     "text": [
      "Ente number : 100\n",
      "5050\n"
     ]
    }
   ],
   "source": [
    "n = int(input(\"Ente number : \"))\n",
    "sum=0;\n",
    "i=n;\n",
    "# print(int(n*(n+1)/2))\n",
    "while i>=0:\n",
    "    sum+=i\n",
    "    i=i-1;\n",
    "print(sum)\n"
   ]
  },
  {
   "cell_type": "code",
   "execution_count": null,
   "id": "62ae0bf3",
   "metadata": {},
   "outputs": [],
   "source": []
  },
  {
   "cell_type": "code",
   "execution_count": null,
   "id": "5459d9b0",
   "metadata": {},
   "outputs": [],
   "source": []
  },
  {
   "cell_type": "markdown",
   "id": "55ad6a41",
   "metadata": {},
   "source": [
    "# wap to separate negative and positive number in list and store in different list "
   ]
  },
  {
   "cell_type": "code",
   "execution_count": 13,
   "id": "de2a86a3",
   "metadata": {},
   "outputs": [
    {
     "name": "stdout",
     "output_type": "stream",
     "text": [
      "positive List  [12, 13, 0, 45]\n",
      " Negative list  [-4, -10, -8]\n"
     ]
    }
   ],
   "source": [
    "Ls = [12,13,-4,0,-10,-8,45]\n",
    "positiveLs = []\n",
    "negativeLs = []\n",
    "for n in Ls:\n",
    "    if n>=0:\n",
    "        positiveLs.append(n)\n",
    "    else:\n",
    "        negativeLs.append(n)\n",
    "print(\"positive List \",positiveLs)\n",
    "print(\" Negative list \",negativeLs)\n"
   ]
  },
  {
   "cell_type": "code",
   "execution_count": null,
   "id": "5efb3101",
   "metadata": {},
   "outputs": [],
   "source": []
  },
  {
   "cell_type": "markdown",
   "id": "97adf35c",
   "metadata": {},
   "source": [
    "### wap to fetch only even values from a dictionary"
   ]
  },
  {
   "cell_type": "code",
   "execution_count": 4,
   "id": "75ed471c",
   "metadata": {},
   "outputs": [
    {
     "name": "stdout",
     "output_type": "stream",
     "text": [
      "[4, 16, -8]\n"
     ]
    }
   ],
   "source": [
    "dit ={'k1':5,'k2':4,'k3':16,'k4':-8,'k5':-199}\n",
    "ans  = []\n",
    "for n in dit.values():\n",
    "    if n%2==0 :\n",
    "        ans.append(n)\n",
    "print(ans)"
   ]
  },
  {
   "cell_type": "markdown",
   "id": "b6ee0ea3",
   "metadata": {},
   "source": [
    "# find factorial "
   ]
  },
  {
   "cell_type": "code",
   "execution_count": 9,
   "id": "e77eda74",
   "metadata": {},
   "outputs": [
    {
     "name": "stdout",
     "output_type": "stream",
     "text": [
      "Enter number : 10\n",
      "3628800\n"
     ]
    }
   ],
   "source": [
    "n = int(input(\"Enter number : \"))\n",
    "\n",
    "if n<0:\n",
    "    print(\"undefined\")\n",
    "else:\n",
    "    fact =1\n",
    "    i=n;\n",
    "    while i>0:\n",
    "        fact =fact*i\n",
    "        i=i-1\n",
    "    print(fact)\n",
    "    \n",
    "    "
   ]
  },
  {
   "cell_type": "markdown",
   "id": "86108f64",
   "metadata": {},
   "source": [
    "\n",
    "## Eexception - break ,continue"
   ]
  },
  {
   "cell_type": "code",
   "execution_count": 13,
   "id": "53eefb01",
   "metadata": {},
   "outputs": [
    {
     "name": "stdout",
     "output_type": "stream",
     "text": [
      "5\n",
      "3\n"
     ]
    }
   ],
   "source": [
    "a =[5,3,12,7,89,10,42]\n",
    "for n in a:\n",
    "    if n%2==0:\n",
    "        break;\n",
    "    else:\n",
    "        print(n)"
   ]
  },
  {
   "cell_type": "code",
   "execution_count": 14,
   "id": "ba27bc75",
   "metadata": {},
   "outputs": [
    {
     "name": "stdout",
     "output_type": "stream",
     "text": [
      "5\n",
      "3\n",
      "7\n",
      "89\n"
     ]
    }
   ],
   "source": [
    "for n in a:\n",
    "    if n%2==0:\n",
    "        continue\n",
    "    else:\n",
    "        print(n)"
   ]
  },
  {
   "cell_type": "code",
   "execution_count": 16,
   "id": "3457abaa",
   "metadata": {},
   "outputs": [
    {
     "name": "stdout",
     "output_type": "stream",
     "text": [
      "h\n",
      "e\n"
     ]
    }
   ],
   "source": [
    "for ch in \"hello\":\n",
    "    if ch=='l':\n",
    "        break;\n",
    "    else:\n",
    "        print(ch)"
   ]
  },
  {
   "cell_type": "code",
   "execution_count": 17,
   "id": "ccd355cf",
   "metadata": {},
   "outputs": [
    {
     "name": "stdout",
     "output_type": "stream",
     "text": [
      "h\n",
      "e\n",
      "o\n"
     ]
    }
   ],
   "source": [
    "for ch in \"hello\":\n",
    "    if ch=='l':\n",
    "        continue;\n",
    "    else:\n",
    "        print(ch)"
   ]
  },
  {
   "cell_type": "code",
   "execution_count": null,
   "id": "f9cf08d5",
   "metadata": {},
   "outputs": [],
   "source": []
  }
 ],
 "metadata": {
  "kernelspec": {
   "display_name": "Python 3 (ipykernel)",
   "language": "python",
   "name": "python3"
  },
  "language_info": {
   "codemirror_mode": {
    "name": "ipython",
    "version": 3
   },
   "file_extension": ".py",
   "mimetype": "text/x-python",
   "name": "python",
   "nbconvert_exporter": "python",
   "pygments_lexer": "ipython3",
   "version": "3.9.12"
  }
 },
 "nbformat": 4,
 "nbformat_minor": 5
}
