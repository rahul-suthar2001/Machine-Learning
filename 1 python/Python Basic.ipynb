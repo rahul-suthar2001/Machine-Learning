{
 "cells": [
  {
   "cell_type": "code",
   "execution_count": 1,
   "id": "552978f3",
   "metadata": {},
   "outputs": [
    {
     "name": "stdout",
     "output_type": "stream",
     "text": [
      "Learn and  Build\n"
     ]
    }
   ],
   "source": [
    "print(\"Learn and  Build\")"
   ]
  },
  {
   "cell_type": "markdown",
   "id": "32464a35",
   "metadata": {},
   "source": [
    "## Data types"
   ]
  },
  {
   "cell_type": "markdown",
   "id": "5f8d964d",
   "metadata": {},
   "source": [
    " NUmeric - int, float,complex"
   ]
  },
  {
   "cell_type": "code",
   "execution_count": 2,
   "id": "f98c5fd4",
   "metadata": {},
   "outputs": [
    {
     "data": {
      "text/plain": [
       "int"
      ]
     },
     "execution_count": 2,
     "metadata": {},
     "output_type": "execute_result"
    }
   ],
   "source": [
    "a=2\n",
    "type(a)"
   ]
  },
  {
   "cell_type": "code",
   "execution_count": 3,
   "id": "464be96f",
   "metadata": {},
   "outputs": [
    {
     "data": {
      "text/plain": [
       "float"
      ]
     },
     "execution_count": 3,
     "metadata": {},
     "output_type": "execute_result"
    }
   ],
   "source": [
    "b=5.3\n",
    "type(b)\n",
    "# float can store 15 decimal places after that it trucat the value"
   ]
  },
  {
   "cell_type": "code",
   "execution_count": 4,
   "id": "5f9e89cb",
   "metadata": {},
   "outputs": [
    {
     "data": {
      "text/plain": [
       "19.34930249409941"
      ]
     },
     "execution_count": 4,
     "metadata": {},
     "output_type": "execute_result"
    }
   ],
   "source": [
    "c = 19.34930249409940934099234\n",
    "c"
   ]
  },
  {
   "cell_type": "code",
   "execution_count": 5,
   "id": "71ebf52c",
   "metadata": {},
   "outputs": [
    {
     "data": {
      "text/plain": [
       "float"
      ]
     },
     "execution_count": 5,
     "metadata": {},
     "output_type": "execute_result"
    }
   ],
   "source": [
    "type(c)"
   ]
  },
  {
   "cell_type": "code",
   "execution_count": 6,
   "id": "22b6296f",
   "metadata": {},
   "outputs": [
    {
     "data": {
      "text/plain": [
       "complex"
      ]
     },
     "execution_count": 6,
     "metadata": {},
     "output_type": "execute_result"
    }
   ],
   "source": [
    "d  = 1+3j\n",
    "type(d)"
   ]
  },
  {
   "cell_type": "code",
   "execution_count": 9,
   "id": "eb30be93",
   "metadata": {},
   "outputs": [
    {
     "data": {
      "text/plain": [
       "float"
      ]
     },
     "execution_count": 9,
     "metadata": {},
     "output_type": "execute_result"
    }
   ],
   "source": [
    "e =a+b\n",
    "type(e)\n"
   ]
  },
  {
   "cell_type": "markdown",
   "id": "112f53a7",
   "metadata": {},
   "source": [
    "# task\n",
    "### WAP that defines several variables  of different types(numeric) and perofrms the following operations on them :\n",
    "a. ADDs a float data type to an integer\n",
    "\n",
    "b. substracts a complex data type with another complex \n",
    "\n",
    "c. finds the remainder when a float is divided by an int"
   ]
  },
  {
   "cell_type": "code",
   "execution_count": 10,
   "id": "cc4a5e48",
   "metadata": {},
   "outputs": [
    {
     "name": "stdout",
     "output_type": "stream",
     "text": [
      "12.4\n",
      "(2+1j)\n",
      "0.52\n"
     ]
    }
   ],
   "source": [
    "a1 = 10\n",
    "a2= 20\n",
    "a3= 30\n",
    "b1 = 2.4\n",
    "b2 = 4.2\n",
    "b3 = 10.4\n",
    "c1  = 1+3j\n",
    "c2 = 2+5j\n",
    "c3 = 4+6j\n",
    "\n",
    "operation_A = a1+b1\n",
    "operation_B = c3-c2\n",
    "operation_c = b3/a2\n",
    "\n",
    "print(operation_A)\n",
    "print(operation_B)\n",
    "print(operation_c)"
   ]
  },
  {
   "cell_type": "markdown",
   "id": "c609aab8",
   "metadata": {},
   "source": [
    "# String"
   ]
  },
  {
   "cell_type": "code",
   "execution_count": 22,
   "id": "2ba78a8b",
   "metadata": {},
   "outputs": [
    {
     "name": "stdout",
     "output_type": "stream",
     "text": [
      "<class 'str'>\n",
      "<class 'str'>\n"
     ]
    }
   ],
   "source": [
    "name= \"hello \"\n",
    "surename ='world '\n",
    "print(type(name))\n",
    "print(type(surename))"
   ]
  },
  {
   "cell_type": "markdown",
   "id": "5c780f35",
   "metadata": {},
   "source": [
    "### operations on string \n"
   ]
  },
  {
   "cell_type": "code",
   "execution_count": 23,
   "id": "667e673a",
   "metadata": {},
   "outputs": [
    {
     "name": "stdout",
     "output_type": "stream",
     "text": [
      "hello world \n"
     ]
    }
   ],
   "source": [
    "# concatenate\n",
    "a = name+surename\n",
    "print(a)"
   ]
  },
  {
   "cell_type": "code",
   "execution_count": 28,
   "id": "8828cffe",
   "metadata": {},
   "outputs": [
    {
     "name": "stdout",
     "output_type": "stream",
     "text": [
      "hello world hello world hello world hello world \n"
     ]
    }
   ],
   "source": [
    "print(a*4)"
   ]
  },
  {
   "cell_type": "code",
   "execution_count": 1,
   "id": "701ba363",
   "metadata": {},
   "outputs": [],
   "source": [
    "str1 = \"python learning from python.org\""
   ]
  },
  {
   "cell_type": "code",
   "execution_count": 2,
   "id": "a88a1e0e",
   "metadata": {},
   "outputs": [
    {
     "data": {
      "text/plain": [
       "'p'"
      ]
     },
     "execution_count": 2,
     "metadata": {},
     "output_type": "execute_result"
    }
   ],
   "source": [
    "#silicing\n",
    "str1[0]"
   ]
  },
  {
   "cell_type": "code",
   "execution_count": 3,
   "id": "128eb532",
   "metadata": {},
   "outputs": [
    {
     "data": {
      "text/plain": [
       "'python'"
      ]
     },
     "execution_count": 3,
     "metadata": {},
     "output_type": "execute_result"
    }
   ],
   "source": [
    "str1[0:6]"
   ]
  },
  {
   "cell_type": "code",
   "execution_count": 6,
   "id": "86edf00a",
   "metadata": {},
   "outputs": [
    {
     "data": {
      "text/plain": [
       "'python learning from python.org'"
      ]
     },
     "execution_count": 6,
     "metadata": {},
     "output_type": "execute_result"
    }
   ],
   "source": [
    "str1[:]"
   ]
  },
  {
   "cell_type": "code",
   "execution_count": 8,
   "id": "43d95dda",
   "metadata": {},
   "outputs": [
    {
     "data": {
      "text/plain": [
       "'python lea'"
      ]
     },
     "execution_count": 8,
     "metadata": {},
     "output_type": "execute_result"
    }
   ],
   "source": [
    "str1[:10]"
   ]
  },
  {
   "cell_type": "code",
   "execution_count": 12,
   "id": "ac5e20a6",
   "metadata": {},
   "outputs": [
    {
     "data": {
      "text/plain": [
       "'learning'"
      ]
     },
     "execution_count": 12,
     "metadata": {},
     "output_type": "execute_result"
    }
   ],
   "source": [
    "str1[7:15]"
   ]
  },
  {
   "cell_type": "code",
   "execution_count": 29,
   "id": "29d337f4",
   "metadata": {},
   "outputs": [
    {
     "data": {
      "text/plain": [
       "'org'"
      ]
     },
     "execution_count": 29,
     "metadata": {},
     "output_type": "execute_result"
    }
   ],
   "source": [
    "str1[-3:]"
   ]
  },
  {
   "cell_type": "code",
   "execution_count": 30,
   "id": "5e08e240",
   "metadata": {},
   "outputs": [],
   "source": [
    "name ='hello everyone how are you'"
   ]
  },
  {
   "cell_type": "code",
   "execution_count": 34,
   "id": "0b845562",
   "metadata": {},
   "outputs": [
    {
     "data": {
      "text/plain": [
       "'everyone'"
      ]
     },
     "execution_count": 34,
     "metadata": {},
     "output_type": "execute_result"
    }
   ],
   "source": [
    "name[-20:-12]"
   ]
  },
  {
   "cell_type": "code",
   "execution_count": null,
   "id": "f54b07a1",
   "metadata": {},
   "outputs": [],
   "source": []
  },
  {
   "cell_type": "code",
   "execution_count": null,
   "id": "7fdf6908",
   "metadata": {},
   "outputs": [],
   "source": []
  }
 ],
 "metadata": {
  "kernelspec": {
   "display_name": "Python 3 (ipykernel)",
   "language": "python",
   "name": "python3"
  },
  "language_info": {
   "codemirror_mode": {
    "name": "ipython",
    "version": 3
   },
   "file_extension": ".py",
   "mimetype": "text/x-python",
   "name": "python",
   "nbconvert_exporter": "python",
   "pygments_lexer": "ipython3",
   "version": "3.9.12"
  }
 },
 "nbformat": 4,
 "nbformat_minor": 5
}
