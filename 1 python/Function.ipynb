{
 "cells": [
  {
   "cell_type": "code",
   "execution_count": 4,
   "id": "c8a64acd",
   "metadata": {},
   "outputs": [
    {
     "name": "stdout",
     "output_type": "stream",
     "text": [
      "Enter your name : hello\n",
      "welcome  hello\n"
     ]
    }
   ],
   "source": [
    "def greet(name):\n",
    "    print(\"welcome \",name)\n",
    "    \n",
    "    \n",
    "    \n",
    "name = input(\"Enter your name : \")\n",
    "greet(name)"
   ]
  },
  {
   "cell_type": "code",
   "execution_count": 7,
   "id": "c26bd8cd",
   "metadata": {},
   "outputs": [],
   "source": [
    "def add(n1,n2):\n",
    "    print(n1+n2)\n",
    "    \n",
    "def sub(n1,n2):\n",
    "    print(n1-n2)\n",
    "def multi(n1,n2):\n",
    "    print(n1*n2)\n",
    "def div(n1,n2):\n",
    "    print(n1/n2)"
   ]
  },
  {
   "cell_type": "code",
   "execution_count": 8,
   "id": "d39385cb",
   "metadata": {},
   "outputs": [
    {
     "name": "stdout",
     "output_type": "stream",
     "text": [
      "12\n",
      "20\n",
      "8\n",
      "5.0\n"
     ]
    }
   ],
   "source": [
    "add(10,2)\n",
    "multi(10,2)\n",
    "sub(10,2)\n",
    "div(10,2)\n"
   ]
  },
  {
   "cell_type": "code",
   "execution_count": 20,
   "id": "22e1948d",
   "metadata": {},
   "outputs": [],
   "source": [
    "# return statement\n",
    "def add(n1,n2):\n",
    "    return (n1+n2)\n",
    "    \n",
    "def sub(n1,n2):\n",
    "    return (n1-n2)\n",
    "def multi(n1,n2):\n",
    "    return (n1*n2)\n",
    "def div(n1,n2):\n",
    "    return (n1/n2)\n",
    "\n",
    "# def com(n1,n2):\n",
    "#     return n1>n2"
   ]
  },
  {
   "cell_type": "code",
   "execution_count": 21,
   "id": "3d6d52da",
   "metadata": {},
   "outputs": [
    {
     "name": "stdout",
     "output_type": "stream",
     "text": [
      "144\n"
     ]
    }
   ],
   "source": [
    "x= add(10,2)\n",
    "y = sub(20,8)\n",
    "z = multi(x,y)\n",
    "print(z)"
   ]
  },
  {
   "cell_type": "code",
   "execution_count": 67,
   "id": "c3827ab9",
   "metadata": {},
   "outputs": [],
   "source": [
    "# num=0 is default argument\n",
    "def absolute(num=0):\n",
    "    if num>=0:\n",
    "        return num\n",
    "    else:\n",
    "        return (num*-1)\n"
   ]
  },
  {
   "cell_type": "code",
   "execution_count": 35,
   "id": "d76c852d",
   "metadata": {},
   "outputs": [
    {
     "name": "stdout",
     "output_type": "stream",
     "text": [
      "Enter number : -10\n",
      "Absolute value is  10\n"
     ]
    }
   ],
   "source": [
    "num = int(input(\"Enter number : \"))\n",
    "print(\"Absolute value is \",absolute(num))"
   ]
  },
  {
   "cell_type": "code",
   "execution_count": null,
   "id": "1be23c4c",
   "metadata": {},
   "outputs": [],
   "source": []
  },
  {
   "cell_type": "code",
   "execution_count": 62,
   "id": "d83eb2e2",
   "metadata": {},
   "outputs": [],
   "source": [
    "#greatest among three number \n",
    "def greatest(n1,n2,n3):\n",
    "    return max(n1,n2,n3)\n"
   ]
  },
  {
   "cell_type": "code",
   "execution_count": 63,
   "id": "422aceea",
   "metadata": {},
   "outputs": [
    {
     "data": {
      "text/plain": [
       "20"
      ]
     },
     "execution_count": 63,
     "metadata": {},
     "output_type": "execute_result"
    }
   ],
   "source": [
    "greatest(10,20,5)"
   ]
  },
  {
   "cell_type": "code",
   "execution_count": 64,
   "id": "8ab62f34",
   "metadata": {},
   "outputs": [
    {
     "name": "stdout",
     "output_type": "stream",
     "text": [
      "Hi  Rahul\n",
      ", Good night\n"
     ]
    }
   ],
   "source": [
    "def hello(name,msg):\n",
    "    # docstring in python\n",
    "    ''' name=your name\n",
    "     msg= message you want to print '''\n",
    "    print(\"Hi \",name)\n",
    "    print(\",\",msg)\n",
    "nm = \"Rahul\"\n",
    "msg=\"Good night\"\n",
    "hello(nm,msg)\n"
   ]
  },
  {
   "cell_type": "code",
   "execution_count": 71,
   "id": "e6c95dea",
   "metadata": {},
   "outputs": [
    {
     "name": "stdout",
     "output_type": "stream",
     "text": [
      "Hi  Rahul\n",
      ", Good night\n"
     ]
    }
   ],
   "source": [
    "# keyword arguments\n",
    "hello(msg=msg,name=nm)"
   ]
  },
  {
   "cell_type": "code",
   "execution_count": 72,
   "id": "bf13a1d4",
   "metadata": {},
   "outputs": [
    {
     "name": "stdout",
     "output_type": "stream",
     "text": [
      "Help on function hello in module __main__:\n",
      "\n",
      "hello(name, msg)\n",
      "    name=your name\n",
      "    msg= message you want to print\n",
      "\n"
     ]
    }
   ],
   "source": [
    "help(hello)\n"
   ]
  },
  {
   "cell_type": "code",
   "execution_count": 73,
   "id": "732321ff",
   "metadata": {},
   "outputs": [
    {
     "ename": "SyntaxError",
     "evalue": "non-default argument follows default argument (3122815097.py, line 3)",
     "output_type": "error",
     "traceback": [
      "\u001b[1;36m  Input \u001b[1;32mIn [73]\u001b[1;36m\u001b[0m\n\u001b[1;33m    def hello(name=\"Rahul\",msg):\u001b[0m\n\u001b[1;37m                              ^\u001b[0m\n\u001b[1;31mSyntaxError\u001b[0m\u001b[1;31m:\u001b[0m non-default argument follows default argument\n"
     ]
    }
   ],
   "source": [
    "# default argument\n",
    "# if default argument declare then  all argument right side it must also default\n",
    "def hello(name=\"Rahul\",msg):\n",
    "    print(name,msg)\n"
   ]
  },
  {
   "cell_type": "code",
   "execution_count": 9,
   "id": "98606064",
   "metadata": {},
   "outputs": [],
   "source": [
    "# arbitrary arguments\n",
    "def greeting(*names):\n",
    "    for name in names:\n",
    "        print(\"welcome\",name)"
   ]
  },
  {
   "cell_type": "code",
   "execution_count": 17,
   "id": "8b7cdbef",
   "metadata": {},
   "outputs": [
    {
     "name": "stdout",
     "output_type": "stream",
     "text": [
      "welcome rahul\n",
      "welcome rakesh\n",
      "welcome mehul\n"
     ]
    }
   ],
   "source": [
    "\n",
    "greeting(\"rahul\",\"rakesh\",\"mehul\")"
   ]
  },
  {
   "cell_type": "code",
   "execution_count": null,
   "id": "5ebc932f",
   "metadata": {},
   "outputs": [],
   "source": []
  },
  {
   "cell_type": "code",
   "execution_count": null,
   "id": "03449d73",
   "metadata": {},
   "outputs": [],
   "source": []
  },
  {
   "cell_type": "code",
   "execution_count": null,
   "id": "ff77373e",
   "metadata": {},
   "outputs": [],
   "source": []
  },
  {
   "cell_type": "code",
   "execution_count": 25,
   "id": "a0e11f1d",
   "metadata": {},
   "outputs": [],
   "source": [
    "# wap using function which takes in a string and some integers \n",
    "# as an input and return the reversed string as it first output\n",
    "# and sorts the inputed in integers in ascending order\n",
    "def reverseAndSort(string,*n):\n",
    "    return string[::-1],sorted(n)\n",
    "    "
   ]
  },
  {
   "cell_type": "code",
   "execution_count": 26,
   "id": "e2c7b5de",
   "metadata": {},
   "outputs": [
    {
     "data": {
      "text/plain": [
       "('olleh', [3, 4, 5, 10, 11, 25, 32])"
      ]
     },
     "execution_count": 26,
     "metadata": {},
     "output_type": "execute_result"
    }
   ],
   "source": [
    "reverseAndSort(\"hello\",10,4,25,32,11,5,3)"
   ]
  },
  {
   "cell_type": "code",
   "execution_count": null,
   "id": "1bde375d",
   "metadata": {},
   "outputs": [],
   "source": []
  },
  {
   "cell_type": "code",
   "execution_count": 45,
   "id": "792b53f3",
   "metadata": {},
   "outputs": [],
   "source": [
    "# student status function \n",
    "# argument== name,rollno\n",
    "# operation:- i) if rollno present then true and return details\n",
    "         # ii) it should return the marks obtained by student in last 3 test\n",
    "    #iii) grade\n",
    "\n",
    "\n",
    "rollMarks = {1:[70,80,65],2:[100,90,89],3:[78,88,86],4:[90,60,78],5:[45,32,23]}\n",
    "\n",
    "def student_status(name,rollNo):\n",
    "    present=False\n",
    "\n",
    "    if rollNo in rollMarks.keys():\n",
    "        present=True\n",
    "        marks= rollMarks.get(rollNo)\n",
    "    if present==False:\n",
    "        return (name+\" is absent in test\")\n",
    "    avg = sum(marks)/3;\n",
    "    grade=\"F\"\n",
    "    if avg>=90:\n",
    "        grade=\"S\"\n",
    "    elif avg>=80:\n",
    "        grade=\"A\"\n",
    "    elif avg >=70:\n",
    "        grade=\"B\"\n",
    "    elif avg >=60:\n",
    "        grade=\"C\"\n",
    "    else:\n",
    "        grade=\"F\"\n",
    "    return  (name+\" is present in test\"),marks,grade\n",
    "    \n",
    "    "
   ]
  },
  {
   "cell_type": "code",
   "execution_count": 48,
   "id": "30d8c917",
   "metadata": {},
   "outputs": [
    {
     "data": {
      "text/plain": [
       "('rahul is present in test', [45, 32, 23], 'F')"
      ]
     },
     "execution_count": 48,
     "metadata": {},
     "output_type": "execute_result"
    }
   ],
   "source": [
    "student_status(\"rahul\",5)"
   ]
  },
  {
   "cell_type": "code",
   "execution_count": 30,
   "id": "57b7565f",
   "metadata": {},
   "outputs": [
    {
     "data": {
      "text/plain": [
       "True"
      ]
     },
     "execution_count": 30,
     "metadata": {},
     "output_type": "execute_result"
    }
   ],
   "source": []
  },
  {
   "cell_type": "code",
   "execution_count": null,
   "id": "47844465",
   "metadata": {},
   "outputs": [],
   "source": []
  }
 ],
 "metadata": {
  "kernelspec": {
   "display_name": "Python 3 (ipykernel)",
   "language": "python",
   "name": "python3"
  },
  "language_info": {
   "codemirror_mode": {
    "name": "ipython",
    "version": 3
   },
   "file_extension": ".py",
   "mimetype": "text/x-python",
   "name": "python",
   "nbconvert_exporter": "python",
   "pygments_lexer": "ipython3",
   "version": "3.9.12"
  }
 },
 "nbformat": 4,
 "nbformat_minor": 5
}
