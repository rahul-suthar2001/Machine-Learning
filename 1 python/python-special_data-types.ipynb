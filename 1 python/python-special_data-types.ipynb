{
 "cells": [
  {
   "cell_type": "markdown",
   "id": "00cdcc3e",
   "metadata": {},
   "source": [
    "# List"
   ]
  },
  {
   "cell_type": "code",
   "execution_count": 14,
   "id": "568cd83a",
   "metadata": {},
   "outputs": [],
   "source": [
    "# list keyword in python as well\n",
    "# declartion list_name = []\n",
    "lst = [4,5,20.2,\"rahul\"]"
   ]
  },
  {
   "cell_type": "code",
   "execution_count": 15,
   "id": "1778a2e3",
   "metadata": {},
   "outputs": [
    {
     "data": {
      "text/plain": [
       "[4, 5, 20.2, 'rahul']"
      ]
     },
     "execution_count": 15,
     "metadata": {},
     "output_type": "execute_result"
    }
   ],
   "source": [
    "lst"
   ]
  },
  {
   "cell_type": "code",
   "execution_count": 16,
   "id": "5675a0ab",
   "metadata": {},
   "outputs": [
    {
     "data": {
      "text/plain": [
       "list"
      ]
     },
     "execution_count": 16,
     "metadata": {},
     "output_type": "execute_result"
    }
   ],
   "source": [
    "type(lst)"
   ]
  },
  {
   "cell_type": "code",
   "execution_count": 17,
   "id": "88c7f18a",
   "metadata": {},
   "outputs": [
    {
     "data": {
      "text/plain": [
       "[4, 5, 20.2, 'rahul', 'suthar']"
      ]
     },
     "execution_count": 17,
     "metadata": {},
     "output_type": "execute_result"
    }
   ],
   "source": [
    "lst.append(\"suthar\")\n",
    "# add at end\n",
    "lst"
   ]
  },
  {
   "cell_type": "code",
   "execution_count": 18,
   "id": "4c90b8d6",
   "metadata": {},
   "outputs": [
    {
     "data": {
      "text/plain": [
       "[4, 'hello', 5, 20.2, 'rahul', 'suthar']"
      ]
     },
     "execution_count": 18,
     "metadata": {},
     "output_type": "execute_result"
    }
   ],
   "source": [
    "lst.insert(1,\"hello\")\n",
    "# add at specific location (index)\n",
    "lst"
   ]
  },
  {
   "cell_type": "code",
   "execution_count": 19,
   "id": "fbbc99d7",
   "metadata": {},
   "outputs": [
    {
     "data": {
      "text/plain": [
       "[4, 'hello', 5, 20.2, 'suthar']"
      ]
     },
     "execution_count": 19,
     "metadata": {},
     "output_type": "execute_result"
    }
   ],
   "source": [
    "lst.remove(\"rahul\")\n",
    "lst"
   ]
  },
  {
   "cell_type": "code",
   "execution_count": 22,
   "id": "80243c5a",
   "metadata": {},
   "outputs": [
    {
     "name": "stdout",
     "output_type": "stream",
     "text": [
      "hello\n"
     ]
    }
   ],
   "source": [
    "print(lst.pop(1))"
   ]
  },
  {
   "cell_type": "code",
   "execution_count": 23,
   "id": "7327b7f1",
   "metadata": {},
   "outputs": [
    {
     "data": {
      "text/plain": [
       "[4, 5, 20.2, 'suthar']"
      ]
     },
     "execution_count": 23,
     "metadata": {},
     "output_type": "execute_result"
    }
   ],
   "source": [
    "lst"
   ]
  },
  {
   "cell_type": "code",
   "execution_count": 24,
   "id": "9be316a2",
   "metadata": {},
   "outputs": [
    {
     "data": {
      "text/plain": [
       "[6, 5, 20.2, 'suthar']"
      ]
     },
     "execution_count": 24,
     "metadata": {},
     "output_type": "execute_result"
    }
   ],
   "source": [
    "# replaces the data\n",
    "lst[0] = 6\n",
    "lst\n"
   ]
  },
  {
   "cell_type": "markdown",
   "id": "0071ef56",
   "metadata": {},
   "source": [
    "#### slicing"
   ]
  },
  {
   "cell_type": "code",
   "execution_count": 31,
   "id": "ba080d05",
   "metadata": {},
   "outputs": [],
   "source": [
    "list2= [1,2,3,[\"a\",\"b\",4,5],10,\"hello\",\"world\",[12,45,\"friends\",\"python learning\"]]"
   ]
  },
  {
   "cell_type": "code",
   "execution_count": 32,
   "id": "f5882567",
   "metadata": {},
   "outputs": [
    {
     "data": {
      "text/plain": [
       "[1,\n",
       " 2,\n",
       " 3,\n",
       " ['a', 'b', 4, 5],\n",
       " 10,\n",
       " 'hello',\n",
       " 'world',\n",
       " [12, 45, 'friends', 'python learning']]"
      ]
     },
     "execution_count": 32,
     "metadata": {},
     "output_type": "execute_result"
    }
   ],
   "source": [
    "list2"
   ]
  },
  {
   "cell_type": "code",
   "execution_count": 33,
   "id": "2cf40c13",
   "metadata": {},
   "outputs": [
    {
     "data": {
      "text/plain": [
       "3"
      ]
     },
     "execution_count": 33,
     "metadata": {},
     "output_type": "execute_result"
    }
   ],
   "source": [
    "list2[2]"
   ]
  },
  {
   "cell_type": "code",
   "execution_count": 34,
   "id": "6951b8c4",
   "metadata": {},
   "outputs": [
    {
     "data": {
      "text/plain": [
       "'a'"
      ]
     },
     "execution_count": 34,
     "metadata": {},
     "output_type": "execute_result"
    }
   ],
   "source": [
    "list2[3][0]"
   ]
  },
  {
   "cell_type": "code",
   "execution_count": 39,
   "id": "73833291",
   "metadata": {},
   "outputs": [
    {
     "data": {
      "text/plain": [
       "'python'"
      ]
     },
     "execution_count": 39,
     "metadata": {},
     "output_type": "execute_result"
    }
   ],
   "source": [
    "list2[-1][-1][0:6]"
   ]
  },
  {
   "cell_type": "markdown",
   "id": "bd2f7d9f",
   "metadata": {},
   "source": [
    "# Tuple\n",
    "Immutable data "
   ]
  },
  {
   "cell_type": "code",
   "execution_count": 49,
   "id": "d3d1046e",
   "metadata": {},
   "outputs": [],
   "source": [
    "t1 = (\"hello\",\"world\",10,20)"
   ]
  },
  {
   "cell_type": "code",
   "execution_count": 50,
   "id": "2679a00c",
   "metadata": {},
   "outputs": [
    {
     "data": {
      "text/plain": [
       "tuple"
      ]
     },
     "execution_count": 50,
     "metadata": {},
     "output_type": "execute_result"
    }
   ],
   "source": [
    "type(t1)"
   ]
  },
  {
   "cell_type": "code",
   "execution_count": 51,
   "id": "d0d96921",
   "metadata": {},
   "outputs": [
    {
     "data": {
      "text/plain": [
       "('world', 10)"
      ]
     },
     "execution_count": 51,
     "metadata": {},
     "output_type": "execute_result"
    }
   ],
   "source": [
    "t1[1:3]"
   ]
  },
  {
   "cell_type": "code",
   "execution_count": 54,
   "id": "cf6729d6",
   "metadata": {},
   "outputs": [],
   "source": [
    "#type cast\n",
    "t2= list(t1)"
   ]
  },
  {
   "cell_type": "code",
   "execution_count": 55,
   "id": "73c8c2ea",
   "metadata": {},
   "outputs": [
    {
     "data": {
      "text/plain": [
       "['hello', 'world', 10, 20]"
      ]
     },
     "execution_count": 55,
     "metadata": {},
     "output_type": "execute_result"
    }
   ],
   "source": [
    "t2"
   ]
  },
  {
   "cell_type": "code",
   "execution_count": 56,
   "id": "7351e9f9",
   "metadata": {},
   "outputs": [],
   "source": [
    "t2.append(\"fix data\")"
   ]
  },
  {
   "cell_type": "code",
   "execution_count": 57,
   "id": "4b5f2798",
   "metadata": {},
   "outputs": [
    {
     "data": {
      "text/plain": [
       "['hello', 'world', 10, 20, 'fix data']"
      ]
     },
     "execution_count": 57,
     "metadata": {},
     "output_type": "execute_result"
    }
   ],
   "source": [
    "t2"
   ]
  },
  {
   "cell_type": "code",
   "execution_count": 58,
   "id": "160accf8",
   "metadata": {},
   "outputs": [
    {
     "data": {
      "text/plain": [
       "('hello', 'world', 10, 20, 'fix data')"
      ]
     },
     "execution_count": 58,
     "metadata": {},
     "output_type": "execute_result"
    }
   ],
   "source": [
    "t1 = tuple(t2)\n",
    "t1"
   ]
  },
  {
   "cell_type": "code",
   "execution_count": 62,
   "id": "de4981bc",
   "metadata": {},
   "outputs": [
    {
     "name": "stdout",
     "output_type": "stream",
     "text": [
      "Enter 1st value10\n",
      "Enter 2nd value20\n",
      "Enter 3rd value30\n"
     ]
    }
   ],
   "source": [
    "lst = [input(\"Enter 1st value\")]\n",
    "lst.append(input(\"Enter 2nd value\"))\n",
    "lst.append(input(\"Enter 3rd value\"))"
   ]
  },
  {
   "cell_type": "code",
   "execution_count": 63,
   "id": "0790b8b4",
   "metadata": {},
   "outputs": [
    {
     "data": {
      "text/plain": [
       "['10', '20', '30']"
      ]
     },
     "execution_count": 63,
     "metadata": {},
     "output_type": "execute_result"
    }
   ],
   "source": [
    "lst"
   ]
  },
  {
   "cell_type": "code",
   "execution_count": 64,
   "id": "a04b0ad6",
   "metadata": {},
   "outputs": [
    {
     "data": {
      "text/plain": [
       "list"
      ]
     },
     "execution_count": 64,
     "metadata": {},
     "output_type": "execute_result"
    }
   ],
   "source": [
    "type(lst)"
   ]
  },
  {
   "cell_type": "markdown",
   "id": "12108cdc",
   "metadata": {},
   "source": [
    "# dictionary\n"
   ]
  },
  {
   "cell_type": "markdown",
   "id": "d4f7dbc4",
   "metadata": {},
   "source": [
    "### key value pair "
   ]
  },
  {
   "cell_type": "code",
   "execution_count": 89,
   "id": "42c87d85",
   "metadata": {},
   "outputs": [
    {
     "data": {
      "text/plain": [
       "{1: ['hello', 10, 20], 'k2': ['world', 30, 40]}"
      ]
     },
     "execution_count": 89,
     "metadata": {},
     "output_type": "execute_result"
    }
   ],
   "source": [
    "dct ={1:['hello',10,20],'k2':['world',30,40]}\n",
    "dct"
   ]
  },
  {
   "cell_type": "code",
   "execution_count": 90,
   "id": "8371a640",
   "metadata": {},
   "outputs": [
    {
     "data": {
      "text/plain": [
       "['hello', 10, 20]"
      ]
     },
     "execution_count": 90,
     "metadata": {},
     "output_type": "execute_result"
    }
   ],
   "source": [
    "dct.get(1)"
   ]
  },
  {
   "cell_type": "code",
   "execution_count": 91,
   "id": "38931a73",
   "metadata": {},
   "outputs": [
    {
     "data": {
      "text/plain": [
       "dict_keys([1, 'k2'])"
      ]
     },
     "execution_count": 91,
     "metadata": {},
     "output_type": "execute_result"
    }
   ],
   "source": [
    "dct.keys()"
   ]
  },
  {
   "cell_type": "code",
   "execution_count": 92,
   "id": "9f877df8",
   "metadata": {
    "scrolled": true
   },
   "outputs": [
    {
     "data": {
      "text/plain": [
       "dict_values([['hello', 10, 20], ['world', 30, 40]])"
      ]
     },
     "execution_count": 92,
     "metadata": {},
     "output_type": "execute_result"
    }
   ],
   "source": [
    "dct.values()"
   ]
  },
  {
   "cell_type": "code",
   "execution_count": 97,
   "id": "56145d11",
   "metadata": {},
   "outputs": [],
   "source": [
    "dct = {1+2j:\"hello\",\"name\":\"rahul\",1:\"dodsk\",(\"hell\",\"erer\"):\"sdsd\"}"
   ]
  },
  {
   "cell_type": "code",
   "execution_count": 101,
   "id": "0560bc65",
   "metadata": {},
   "outputs": [
    {
     "data": {
      "text/plain": [
       "'sdsd'"
      ]
     },
     "execution_count": 101,
     "metadata": {},
     "output_type": "execute_result"
    }
   ],
   "source": [
    "dct.get((\"hell\",\"erer\"))"
   ]
  },
  {
   "cell_type": "code",
   "execution_count": null,
   "id": "27f26473",
   "metadata": {},
   "outputs": [],
   "source": []
  }
 ],
 "metadata": {
  "kernelspec": {
   "display_name": "Python 3 (ipykernel)",
   "language": "python",
   "name": "python3"
  },
  "language_info": {
   "codemirror_mode": {
    "name": "ipython",
    "version": 3
   },
   "file_extension": ".py",
   "mimetype": "text/x-python",
   "name": "python",
   "nbconvert_exporter": "python",
   "pygments_lexer": "ipython3",
   "version": "3.9.12"
  }
 },
 "nbformat": 4,
 "nbformat_minor": 5
}
