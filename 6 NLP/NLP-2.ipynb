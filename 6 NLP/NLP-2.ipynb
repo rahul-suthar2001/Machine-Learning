{
 "cells": [
  {
   "cell_type": "code",
   "execution_count": 1,
   "id": "bca769b5",
   "metadata": {},
   "outputs": [],
   "source": [
    "txt  ='''Natural language processing (NLP) is the ability of a computer program to understand human language as it is spoken and written -- referred to as natural language. \n",
    "It is a component of artificial intelligence (AI).\n",
    "\n",
    "NLP has existed for more than 50 years and has roots in the field of linguistics.\n",
    "It has a variety of real-world applications in a number of fields, including medical research, search engines and business intelligence.\n",
    "'''"
   ]
  },
  {
   "cell_type": "code",
   "execution_count": 2,
   "id": "a7960775",
   "metadata": {},
   "outputs": [
    {
     "name": "stdout",
     "output_type": "stream",
     "text": [
      "Natural language processing (NLP) is the ability of a computer program to understand human language as it is spoken and written -- referred to as natural language. \n",
      "It is a component of artificial intelligence (AI).\n",
      "\n",
      "NLP has existed for more than 50 years and has roots in the field of linguistics.\n",
      "It has a variety of real-world applications in a number of fields, including medical research, search engines and business intelligence.\n",
      "\n"
     ]
    }
   ],
   "source": [
    "print(txt)"
   ]
  },
  {
   "cell_type": "code",
   "execution_count": 3,
   "id": "5041acc4",
   "metadata": {},
   "outputs": [],
   "source": [
    "import nltk"
   ]
  },
  {
   "cell_type": "code",
   "execution_count": 37,
   "id": "8531e03e",
   "metadata": {},
   "outputs": [
    {
     "data": {
      "text/plain": [
       "['Natural language processing (NLP) is the ability of a computer program to understand human language as it is spoken and written -- referred to as natural language.',\n",
       " 'It is a component of artificial intelligence (AI).',\n",
       " 'NLP has existed for more than 50 years and has roots in the field of linguistics.',\n",
       " 'It has a variety of real-world applications in a number of fields, including medical research, search engines and business intelligence.']"
      ]
     },
     "execution_count": 37,
     "metadata": {},
     "output_type": "execute_result"
    }
   ],
   "source": [
    "sentences=nltk.sent_tokenize(txt)\n",
    "sentences"
   ]
  },
  {
   "cell_type": "code",
   "execution_count": 5,
   "id": "8504036e",
   "metadata": {},
   "outputs": [
    {
     "data": {
      "text/plain": [
       "4"
      ]
     },
     "execution_count": 5,
     "metadata": {},
     "output_type": "execute_result"
    }
   ],
   "source": [
    "len(sentences)"
   ]
  },
  {
   "cell_type": "code",
   "execution_count": 6,
   "id": "f61d8740",
   "metadata": {},
   "outputs": [
    {
     "data": {
      "text/plain": [
       "['natural',\n",
       " 'language',\n",
       " 'processing',\n",
       " '(',\n",
       " 'nlp',\n",
       " ')',\n",
       " 'is',\n",
       " 'the',\n",
       " 'ability',\n",
       " 'of',\n",
       " 'a',\n",
       " 'computer',\n",
       " 'program',\n",
       " 'to',\n",
       " 'understand',\n",
       " 'human',\n",
       " 'language',\n",
       " 'as',\n",
       " 'it',\n",
       " 'is',\n",
       " 'spoken',\n",
       " 'and',\n",
       " 'written',\n",
       " '--',\n",
       " 'referred',\n",
       " 'to',\n",
       " 'as',\n",
       " 'natural',\n",
       " 'language',\n",
       " '.']"
      ]
     },
     "execution_count": 6,
     "metadata": {},
     "output_type": "execute_result"
    }
   ],
   "source": [
    "words = nltk.word_tokenize(sentences[0])\n",
    "words"
   ]
  },
  {
   "cell_type": "code",
   "execution_count": 7,
   "id": "eb123efa",
   "metadata": {},
   "outputs": [],
   "source": [
    "from string import punctuation as punc\n",
    "from nltk.corpus import stopwords as sw"
   ]
  },
  {
   "cell_type": "code",
   "execution_count": 8,
   "id": "ee299529",
   "metadata": {},
   "outputs": [
    {
     "data": {
      "text/plain": [
       "'!\"#$%&\\'()*+,-./:;<=>?@[\\\\]^_`{|}~'"
      ]
     },
     "execution_count": 8,
     "metadata": {},
     "output_type": "execute_result"
    }
   ],
   "source": [
    "punc"
   ]
  },
  {
   "cell_type": "code",
   "execution_count": 33,
   "id": "b766fbf7",
   "metadata": {},
   "outputs": [
    {
     "data": {
      "text/plain": [
       "['i', 'me', 'my', 'myself', 'we', 'our', 'ours', 'ourselves', 'you', \"you're\"]"
      ]
     },
     "execution_count": 33,
     "metadata": {},
     "output_type": "execute_result"
    }
   ],
   "source": [
    "swe =sw.words(\"english\")\n",
    "swe[:10]"
   ]
  },
  {
   "cell_type": "code",
   "execution_count": 34,
   "id": "15a427b5",
   "metadata": {},
   "outputs": [],
   "source": [
    "txt2='''Natural language processing (NLP) refers to the branch of computer science—and more specifically, the branch of artificial intelligence or AI—concerned with giving computers the ability to understand text and spoken words in much the same way human beings can.\n",
    "\n",
    "NLP combines computational linguistics—rule-based modeling of human language—with statistical, machine learning, and deep learning models. Together, these technologies enable computers to process human language in the form of text or voice data and to ‘understand’ its full meaning, complete with the speaker or writer’s intent and sentiment.Natural language processing (NLP) refers to the branch of computer science—and more specifically, the branch of artificial intelligence or AI—concerned with giving computers the ability to understand text and spoken words in much the same way human beings can.\n",
    "\n",
    "NLP combines computational linguistics—rule-based modeling of human language—with statistical, machine learning, and deep learning models. Together, these technologies enable computers to process human language in the form of text or voice data and to ‘understand’ its full meaning, complete with the speaker or writer’s intent and sentiment.'''"
   ]
  },
  {
   "cell_type": "code",
   "execution_count": 35,
   "id": "d6246aca",
   "metadata": {},
   "outputs": [],
   "source": [
    "txt3 =''' NLP drives computer programs that translate text from one language to another, \n",
    "respond to spoken commands, and summarize large volumes of text rapidly—even in real time.\n",
    "There’s a good chance you’ve interacted with NLP in the form of voice-operated GPS systems,\n",
    "digital assistants, speech-to-text dictation software, customer service chatbots, and other consumer conveniences.\n",
    "But NLP also plays a growing role in enterprise solutions that help streamline business operations,increase employee\n",
    "productivity,and simplify mission-critical business processes. '''"
   ]
  },
  {
   "cell_type": "code",
   "execution_count": null,
   "id": "89294c85",
   "metadata": {},
   "outputs": [],
   "source": []
  },
  {
   "cell_type": "code",
   "execution_count": 38,
   "id": "f080a214",
   "metadata": {},
   "outputs": [],
   "source": [
    "def word_token(text):    \n",
    "    words=[]\n",
    "    for sent in nltk.sent_tokenize(text.lower()):\n",
    "        ws = nltk.word_tokenize(sent)\n",
    "        ws = [word for word in ws if word not in punc]\n",
    "        ws = [word for word in ws if word not in swe]\n",
    "        words+=ws\n",
    "\n",
    "\n",
    "    words = \" \".join(words)\n",
    "    return words"
   ]
  },
  {
   "cell_type": "code",
   "execution_count": 39,
   "id": "565ec8f8",
   "metadata": {},
   "outputs": [
    {
     "data": {
      "text/plain": [
       "['natural language processing nlp ability computer program understand human language spoken written -- referred natural language component artificial intelligence ai nlp existed 50 years roots field linguistics variety real-world applications number fields including medical research search engines business intelligence',\n",
       " 'natural language processing nlp refers branch computer science—and specifically branch artificial intelligence ai—concerned giving computers ability understand text spoken words much way human beings nlp combines computational linguistics—rule-based modeling human language—with statistical machine learning deep learning models together technologies enable computers process human language form text voice data ‘ understand ’ full meaning complete speaker writer ’ intent sentiment.natural language processing nlp refers branch computer science—and specifically branch artificial intelligence ai—concerned giving computers ability understand text spoken words much way human beings nlp combines computational linguistics—rule-based modeling human language—with statistical machine learning deep learning models together technologies enable computers process human language form text voice data ‘ understand ’ full meaning complete speaker writer ’ intent sentiment',\n",
       " 'nlp drives computer programs translate text one language another respond spoken commands summarize large volumes text rapidly—even real time ’ good chance ’ interacted nlp form voice-operated gps systems digital assistants speech-to-text dictation software customer service chatbots consumer conveniences nlp also plays growing role enterprise solutions help streamline business operations increase employee productivity simplify mission-critical business processes']"
      ]
     },
     "execution_count": 39,
     "metadata": {},
     "output_type": "execute_result"
    }
   ],
   "source": [
    "word_list = []\n",
    "word_list.append(word_token(txt))\n",
    "word_list.append(word_token(txt2))\n",
    "word_list.append(word_token(txt3))\n",
    "word_list"
   ]
  },
  {
   "cell_type": "code",
   "execution_count": null,
   "id": "3c390729",
   "metadata": {},
   "outputs": [],
   "source": []
  },
  {
   "cell_type": "code",
   "execution_count": 11,
   "id": "a9f66058",
   "metadata": {},
   "outputs": [
    {
     "name": "stderr",
     "output_type": "stream",
     "text": [
      "[nltk_data] Downloading package wordnet to C:\\Users\\RAHUL\n",
      "[nltk_data]     SUTHAR\\AppData\\Roaming\\nltk_data...\n",
      "[nltk_data]   Package wordnet is already up-to-date!\n",
      "[nltk_data] Downloading package omw-1.4 to C:\\Users\\RAHUL\n",
      "[nltk_data]     SUTHAR\\AppData\\Roaming\\nltk_data...\n",
      "[nltk_data]   Package omw-1.4 is already up-to-date!\n"
     ]
    },
    {
     "data": {
      "text/plain": [
       "True"
      ]
     },
     "execution_count": 11,
     "metadata": {},
     "output_type": "execute_result"
    }
   ],
   "source": [
    "from nltk.stem import PorterStemmer ,WordNetLemmatizer\n",
    "from nltk.corpus import wordnet\n",
    "nltk.download('wordnet')\n",
    "nltk.download('omw-1.4')"
   ]
  },
  {
   "cell_type": "code",
   "execution_count": 12,
   "id": "3ed15c55",
   "metadata": {},
   "outputs": [],
   "source": [
    "lema = WordNetLemmatizer()\n",
    "stemmer =PorterStemmer()"
   ]
  },
  {
   "cell_type": "code",
   "execution_count": 13,
   "id": "3ac60cbe",
   "metadata": {},
   "outputs": [
    {
     "data": {
      "text/plain": [
       "'better'"
      ]
     },
     "execution_count": 13,
     "metadata": {},
     "output_type": "execute_result"
    }
   ],
   "source": [
    "lema.lemmatize(\"better\")"
   ]
  },
  {
   "cell_type": "code",
   "execution_count": 14,
   "id": "d5da2464",
   "metadata": {},
   "outputs": [],
   "source": [
    "tag = nltk.pos_tag(['better'])"
   ]
  },
  {
   "cell_type": "code",
   "execution_count": 15,
   "id": "5e21e756",
   "metadata": {},
   "outputs": [
    {
     "data": {
      "text/plain": [
       "[('better', 'RBR')]"
      ]
     },
     "execution_count": 15,
     "metadata": {},
     "output_type": "execute_result"
    }
   ],
   "source": [
    "tag"
   ]
  },
  {
   "cell_type": "markdown",
   "id": "4c71068e",
   "metadata": {},
   "source": [
    "* CC coordinating conjunction \n",
    "* CD cardinal digit \n",
    "* DT determiner \n",
    "* EX existential there (like: “there is” … think of it like “there exists”) \n",
    "* FW foreign word \n",
    "* IN preposition/subordinating conjunction \n",
    "* JJ adjective – ‘big’ \n",
    "* JJR adjective, comparative – ‘bigger’ \n",
    "* JJS adjective, superlative – ‘biggest’ \n",
    "* LS list marker 1) \n",
    "* MD modal – could, will \n",
    "* NN noun, singular ‘- desk’ \n",
    "* NNS noun plural – ‘desks’ \n",
    "* NNP proper noun, singular – ‘Harrison’ \n",
    "* NNPS proper noun, plural – ‘Americans’ \n",
    "* PDT predeterminer – ‘all the kids’ \n",
    "* POS possessive ending parent’s \n",
    "* PRP personal pronoun –  I, he, she \n",
    "* PRP possessive pronoun – my, his, hers \n",
    "*  RB adverb – very, silently, \n",
    "* RBR adverb, comparative – better \n",
    "* RBS adverb, superlative – best \n",
    "* RP particle – give up \n",
    "* TO – to go ‘to’ the store. \n",
    "* UH interjection – errrrrrrrm \n",
    "* VB verb, base form – take \n",
    "* VBD verb, past tense – took \n",
    "* VBG verb, gerund/present participle – taking \n",
    "* VBN verb, past participle – taken \n",
    "* VBP verb, sing. present, non-3d – take \n",
    "* VBZ verb, 3rd person sing. present – takes \n",
    "* WDT wh-determiner – which \n",
    "* WP wh-pronoun – who, what \n",
    "* WP$ possessive wh-pronoun, eg- whose \n",
    "* WRB wh-adverb, eg- where, when"
   ]
  },
  {
   "cell_type": "code",
   "execution_count": 16,
   "id": "1a9f79a1",
   "metadata": {},
   "outputs": [
    {
     "data": {
      "text/plain": [
       "'well'"
      ]
     },
     "execution_count": 16,
     "metadata": {},
     "output_type": "execute_result"
    }
   ],
   "source": [
    "lema.lemmatize('better',wordnet.ADV)"
   ]
  },
  {
   "cell_type": "code",
   "execution_count": 17,
   "id": "c075ec8d",
   "metadata": {},
   "outputs": [
    {
     "data": {
      "text/plain": [
       "'r'"
      ]
     },
     "execution_count": 17,
     "metadata": {},
     "output_type": "execute_result"
    }
   ],
   "source": [
    "wordnet.ADV"
   ]
  },
  {
   "cell_type": "code",
   "execution_count": 18,
   "id": "134c8367",
   "metadata": {},
   "outputs": [
    {
     "data": {
      "text/plain": [
       "'good'"
      ]
     },
     "execution_count": 18,
     "metadata": {},
     "output_type": "execute_result"
    }
   ],
   "source": [
    "lema.lemmatize('better',wordnet.ADJ)"
   ]
  },
  {
   "cell_type": "code",
   "execution_count": 19,
   "id": "c5867b00",
   "metadata": {},
   "outputs": [
    {
     "data": {
      "text/plain": [
       "[('I', 'PRP'),\n",
       " ('am', 'VBP'),\n",
       " ('better', 'RB'),\n",
       " ('than', 'IN'),\n",
       " ('other', 'JJ')]"
      ]
     },
     "execution_count": 19,
     "metadata": {},
     "output_type": "execute_result"
    }
   ],
   "source": [
    "tags = nltk.pos_tag(nltk.word_tokenize(\"I am better than other \"))\n",
    "tags"
   ]
  },
  {
   "cell_type": "code",
   "execution_count": 20,
   "id": "5915656d",
   "metadata": {},
   "outputs": [
    {
     "data": {
      "text/plain": [
       "'go'"
      ]
     },
     "execution_count": 20,
     "metadata": {},
     "output_type": "execute_result"
    }
   ],
   "source": [
    "stemmer.stem('going')"
   ]
  },
  {
   "cell_type": "code",
   "execution_count": 21,
   "id": "68ebd4b4",
   "metadata": {},
   "outputs": [
    {
     "data": {
      "text/plain": [
       "'work'"
      ]
     },
     "execution_count": 21,
     "metadata": {},
     "output_type": "execute_result"
    }
   ],
   "source": [
    "stemmer.stem('worked')"
   ]
  },
  {
   "cell_type": "code",
   "execution_count": 22,
   "id": "82655c88",
   "metadata": {},
   "outputs": [
    {
     "data": {
      "text/plain": [
       "'doe'"
      ]
     },
     "execution_count": 22,
     "metadata": {},
     "output_type": "execute_result"
    }
   ],
   "source": [
    "#their is goes wrong\n",
    "stemmer.stem('does')\n"
   ]
  },
  {
   "cell_type": "code",
   "execution_count": 23,
   "id": "bff7fbe6",
   "metadata": {
    "scrolled": true
   },
   "outputs": [
    {
     "data": {
      "text/plain": [
       "'understand'"
      ]
     },
     "execution_count": 23,
     "metadata": {},
     "output_type": "execute_result"
    }
   ],
   "source": [
    "stemmer.stem('understanding')"
   ]
  },
  {
   "cell_type": "code",
   "execution_count": 40,
   "id": "0104a587",
   "metadata": {},
   "outputs": [],
   "source": [
    "from sklearn.feature_extraction.text import CountVectorizer\n",
    "import pandas as pd"
   ]
  },
  {
   "cell_type": "code",
   "execution_count": 41,
   "id": "378e23b1",
   "metadata": {},
   "outputs": [],
   "source": [
    "cv = CountVectorizer()"
   ]
  },
  {
   "cell_type": "code",
   "execution_count": 44,
   "id": "ee12c3a9",
   "metadata": {},
   "outputs": [],
   "source": [
    "bag = cv.fit_transform(word_list)"
   ]
  },
  {
   "cell_type": "code",
   "execution_count": 45,
   "id": "ec8382e7",
   "metadata": {},
   "outputs": [
    {
     "data": {
      "text/plain": [
       "<3x118 sparse matrix of type '<class 'numpy.int64'>'\n",
       "\twith 140 stored elements in Compressed Sparse Row format>"
      ]
     },
     "execution_count": 45,
     "metadata": {},
     "output_type": "execute_result"
    }
   ],
   "source": [
    "bag"
   ]
  },
  {
   "cell_type": "markdown",
   "id": "0c52ceb9",
   "metadata": {},
   "source": [
    "**In word list their are 3 sentences and 118 unique words**"
   ]
  },
  {
   "cell_type": "code",
   "execution_count": 49,
   "id": "e2aac09d",
   "metadata": {},
   "outputs": [],
   "source": [
    "uw =cv.get_feature_names()"
   ]
  },
  {
   "cell_type": "code",
   "execution_count": 50,
   "id": "b1082284",
   "metadata": {},
   "outputs": [
    {
     "data": {
      "text/html": [
       "<div>\n",
       "<style scoped>\n",
       "    .dataframe tbody tr th:only-of-type {\n",
       "        vertical-align: middle;\n",
       "    }\n",
       "\n",
       "    .dataframe tbody tr th {\n",
       "        vertical-align: top;\n",
       "    }\n",
       "\n",
       "    .dataframe thead th {\n",
       "        text-align: right;\n",
       "    }\n",
       "</style>\n",
       "<table border=\"1\" class=\"dataframe\">\n",
       "  <thead>\n",
       "    <tr style=\"text-align: right;\">\n",
       "      <th></th>\n",
       "      <th>50</th>\n",
       "      <th>ability</th>\n",
       "      <th>ai</th>\n",
       "      <th>also</th>\n",
       "      <th>and</th>\n",
       "      <th>another</th>\n",
       "      <th>applications</th>\n",
       "      <th>artificial</th>\n",
       "      <th>assistants</th>\n",
       "      <th>based</th>\n",
       "      <th>...</th>\n",
       "      <th>variety</th>\n",
       "      <th>voice</th>\n",
       "      <th>volumes</th>\n",
       "      <th>way</th>\n",
       "      <th>with</th>\n",
       "      <th>words</th>\n",
       "      <th>world</th>\n",
       "      <th>writer</th>\n",
       "      <th>written</th>\n",
       "      <th>years</th>\n",
       "    </tr>\n",
       "  </thead>\n",
       "  <tbody>\n",
       "    <tr>\n",
       "      <th>0</th>\n",
       "      <td>1</td>\n",
       "      <td>1</td>\n",
       "      <td>1</td>\n",
       "      <td>0</td>\n",
       "      <td>0</td>\n",
       "      <td>0</td>\n",
       "      <td>1</td>\n",
       "      <td>1</td>\n",
       "      <td>0</td>\n",
       "      <td>0</td>\n",
       "      <td>...</td>\n",
       "      <td>1</td>\n",
       "      <td>0</td>\n",
       "      <td>0</td>\n",
       "      <td>0</td>\n",
       "      <td>0</td>\n",
       "      <td>0</td>\n",
       "      <td>1</td>\n",
       "      <td>0</td>\n",
       "      <td>1</td>\n",
       "      <td>1</td>\n",
       "    </tr>\n",
       "    <tr>\n",
       "      <th>1</th>\n",
       "      <td>0</td>\n",
       "      <td>2</td>\n",
       "      <td>2</td>\n",
       "      <td>0</td>\n",
       "      <td>2</td>\n",
       "      <td>0</td>\n",
       "      <td>0</td>\n",
       "      <td>2</td>\n",
       "      <td>0</td>\n",
       "      <td>2</td>\n",
       "      <td>...</td>\n",
       "      <td>0</td>\n",
       "      <td>2</td>\n",
       "      <td>0</td>\n",
       "      <td>2</td>\n",
       "      <td>2</td>\n",
       "      <td>2</td>\n",
       "      <td>0</td>\n",
       "      <td>2</td>\n",
       "      <td>0</td>\n",
       "      <td>0</td>\n",
       "    </tr>\n",
       "    <tr>\n",
       "      <th>2</th>\n",
       "      <td>0</td>\n",
       "      <td>0</td>\n",
       "      <td>0</td>\n",
       "      <td>1</td>\n",
       "      <td>0</td>\n",
       "      <td>1</td>\n",
       "      <td>0</td>\n",
       "      <td>0</td>\n",
       "      <td>1</td>\n",
       "      <td>0</td>\n",
       "      <td>...</td>\n",
       "      <td>0</td>\n",
       "      <td>1</td>\n",
       "      <td>1</td>\n",
       "      <td>0</td>\n",
       "      <td>0</td>\n",
       "      <td>0</td>\n",
       "      <td>0</td>\n",
       "      <td>0</td>\n",
       "      <td>0</td>\n",
       "      <td>0</td>\n",
       "    </tr>\n",
       "  </tbody>\n",
       "</table>\n",
       "<p>3 rows × 118 columns</p>\n",
       "</div>"
      ],
      "text/plain": [
       "   50  ability  ai  also  and  another  applications  artificial  assistants  \\\n",
       "0   1        1   1     0    0        0             1           1           0   \n",
       "1   0        2   2     0    2        0             0           2           0   \n",
       "2   0        0   0     1    0        1             0           0           1   \n",
       "\n",
       "   based  ...  variety  voice  volumes  way  with  words  world  writer  \\\n",
       "0      0  ...        1      0        0    0     0      0      1       0   \n",
       "1      2  ...        0      2        0    2     2      2      0       2   \n",
       "2      0  ...        0      1        1    0     0      0      0       0   \n",
       "\n",
       "   written  years  \n",
       "0        1      1  \n",
       "1        0      0  \n",
       "2        0      0  \n",
       "\n",
       "[3 rows x 118 columns]"
      ]
     },
     "execution_count": 50,
     "metadata": {},
     "output_type": "execute_result"
    }
   ],
   "source": [
    "pd.DataFrame(bag.toarray(),columns=uw)"
   ]
  },
  {
   "cell_type": "code",
   "execution_count": 53,
   "id": "83f64886",
   "metadata": {},
   "outputs": [],
   "source": [
    "#TF-IDF\n",
    "from sklearn.feature_extraction.text import TfidfVectorizer"
   ]
  },
  {
   "cell_type": "code",
   "execution_count": 58,
   "id": "8d5d950a",
   "metadata": {},
   "outputs": [],
   "source": [
    "tfidfv =TfidfVectorizer()"
   ]
  },
  {
   "cell_type": "code",
   "execution_count": 59,
   "id": "2bc6de1e",
   "metadata": {},
   "outputs": [],
   "source": [
    "tf_idf = tfidfv.fit_transform(word_list)"
   ]
  },
  {
   "cell_type": "code",
   "execution_count": 60,
   "id": "b5c1b64a",
   "metadata": {},
   "outputs": [
    {
     "data": {
      "text/plain": [
       "<3x118 sparse matrix of type '<class 'numpy.float64'>'\n",
       "\twith 140 stored elements in Compressed Sparse Row format>"
      ]
     },
     "execution_count": 60,
     "metadata": {},
     "output_type": "execute_result"
    }
   ],
   "source": [
    "tf_idf"
   ]
  },
  {
   "cell_type": "code",
   "execution_count": 63,
   "id": "00d82b6a",
   "metadata": {},
   "outputs": [
    {
     "name": "stderr",
     "output_type": "stream",
     "text": [
      "C:\\Users\\RAHUL SUTHAR\\anaconda3\\lib\\site-packages\\sklearn\\utils\\deprecation.py:87: FutureWarning: Function get_feature_names is deprecated; get_feature_names is deprecated in 1.0 and will be removed in 1.2. Please use get_feature_names_out instead.\n",
      "  warnings.warn(msg, category=FutureWarning)\n"
     ]
    },
    {
     "data": {
      "text/html": [
       "<div>\n",
       "<style scoped>\n",
       "    .dataframe tbody tr th:only-of-type {\n",
       "        vertical-align: middle;\n",
       "    }\n",
       "\n",
       "    .dataframe tbody tr th {\n",
       "        vertical-align: top;\n",
       "    }\n",
       "\n",
       "    .dataframe thead th {\n",
       "        text-align: right;\n",
       "    }\n",
       "</style>\n",
       "<table border=\"1\" class=\"dataframe\">\n",
       "  <thead>\n",
       "    <tr style=\"text-align: right;\">\n",
       "      <th></th>\n",
       "      <th>50</th>\n",
       "      <th>ability</th>\n",
       "      <th>ai</th>\n",
       "      <th>also</th>\n",
       "      <th>and</th>\n",
       "      <th>another</th>\n",
       "      <th>applications</th>\n",
       "      <th>artificial</th>\n",
       "      <th>assistants</th>\n",
       "      <th>based</th>\n",
       "      <th>...</th>\n",
       "      <th>variety</th>\n",
       "      <th>voice</th>\n",
       "      <th>volumes</th>\n",
       "      <th>way</th>\n",
       "      <th>with</th>\n",
       "      <th>words</th>\n",
       "      <th>world</th>\n",
       "      <th>writer</th>\n",
       "      <th>written</th>\n",
       "      <th>years</th>\n",
       "    </tr>\n",
       "  </thead>\n",
       "  <tbody>\n",
       "    <tr>\n",
       "      <th>0</th>\n",
       "      <td>0.171334</td>\n",
       "      <td>0.130304</td>\n",
       "      <td>0.130304</td>\n",
       "      <td>0.000000</td>\n",
       "      <td>0.000000</td>\n",
       "      <td>0.000000</td>\n",
       "      <td>0.171334</td>\n",
       "      <td>0.130304</td>\n",
       "      <td>0.000000</td>\n",
       "      <td>0.000000</td>\n",
       "      <td>...</td>\n",
       "      <td>0.171334</td>\n",
       "      <td>0.000000</td>\n",
       "      <td>0.000000</td>\n",
       "      <td>0.000000</td>\n",
       "      <td>0.000000</td>\n",
       "      <td>0.000000</td>\n",
       "      <td>0.171334</td>\n",
       "      <td>0.000000</td>\n",
       "      <td>0.171334</td>\n",
       "      <td>0.171334</td>\n",
       "    </tr>\n",
       "    <tr>\n",
       "      <th>1</th>\n",
       "      <td>0.000000</td>\n",
       "      <td>0.094865</td>\n",
       "      <td>0.094865</td>\n",
       "      <td>0.000000</td>\n",
       "      <td>0.124736</td>\n",
       "      <td>0.000000</td>\n",
       "      <td>0.000000</td>\n",
       "      <td>0.094865</td>\n",
       "      <td>0.000000</td>\n",
       "      <td>0.124736</td>\n",
       "      <td>...</td>\n",
       "      <td>0.000000</td>\n",
       "      <td>0.094865</td>\n",
       "      <td>0.000000</td>\n",
       "      <td>0.124736</td>\n",
       "      <td>0.124736</td>\n",
       "      <td>0.124736</td>\n",
       "      <td>0.000000</td>\n",
       "      <td>0.124736</td>\n",
       "      <td>0.000000</td>\n",
       "      <td>0.000000</td>\n",
       "    </tr>\n",
       "    <tr>\n",
       "      <th>2</th>\n",
       "      <td>0.000000</td>\n",
       "      <td>0.000000</td>\n",
       "      <td>0.000000</td>\n",
       "      <td>0.129706</td>\n",
       "      <td>0.000000</td>\n",
       "      <td>0.129706</td>\n",
       "      <td>0.000000</td>\n",
       "      <td>0.000000</td>\n",
       "      <td>0.129706</td>\n",
       "      <td>0.000000</td>\n",
       "      <td>...</td>\n",
       "      <td>0.000000</td>\n",
       "      <td>0.098645</td>\n",
       "      <td>0.129706</td>\n",
       "      <td>0.000000</td>\n",
       "      <td>0.000000</td>\n",
       "      <td>0.000000</td>\n",
       "      <td>0.000000</td>\n",
       "      <td>0.000000</td>\n",
       "      <td>0.000000</td>\n",
       "      <td>0.000000</td>\n",
       "    </tr>\n",
       "  </tbody>\n",
       "</table>\n",
       "<p>3 rows × 118 columns</p>\n",
       "</div>"
      ],
      "text/plain": [
       "         50   ability        ai      also       and   another  applications  \\\n",
       "0  0.171334  0.130304  0.130304  0.000000  0.000000  0.000000      0.171334   \n",
       "1  0.000000  0.094865  0.094865  0.000000  0.124736  0.000000      0.000000   \n",
       "2  0.000000  0.000000  0.000000  0.129706  0.000000  0.129706      0.000000   \n",
       "\n",
       "   artificial  assistants     based  ...   variety     voice   volumes  \\\n",
       "0    0.130304    0.000000  0.000000  ...  0.171334  0.000000  0.000000   \n",
       "1    0.094865    0.000000  0.124736  ...  0.000000  0.094865  0.000000   \n",
       "2    0.000000    0.129706  0.000000  ...  0.000000  0.098645  0.129706   \n",
       "\n",
       "        way      with     words     world    writer   written     years  \n",
       "0  0.000000  0.000000  0.000000  0.171334  0.000000  0.171334  0.171334  \n",
       "1  0.124736  0.124736  0.124736  0.000000  0.124736  0.000000  0.000000  \n",
       "2  0.000000  0.000000  0.000000  0.000000  0.000000  0.000000  0.000000  \n",
       "\n",
       "[3 rows x 118 columns]"
      ]
     },
     "execution_count": 63,
     "metadata": {},
     "output_type": "execute_result"
    }
   ],
   "source": [
    "pd.DataFrame(tf_idf.toarray(),columns=tfidfv.get_feature_names())"
   ]
  },
  {
   "cell_type": "code",
   "execution_count": null,
   "id": "8101f3f4",
   "metadata": {},
   "outputs": [],
   "source": []
  }
 ],
 "metadata": {
  "kernelspec": {
   "display_name": "Python 3 (ipykernel)",
   "language": "python",
   "name": "python3"
  },
  "language_info": {
   "codemirror_mode": {
    "name": "ipython",
    "version": 3
   },
   "file_extension": ".py",
   "mimetype": "text/x-python",
   "name": "python",
   "nbconvert_exporter": "python",
   "pygments_lexer": "ipython3",
   "version": "3.9.12"
  }
 },
 "nbformat": 4,
 "nbformat_minor": 5
}
