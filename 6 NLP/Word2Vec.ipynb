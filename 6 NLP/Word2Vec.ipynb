{
 "cells": [
  {
   "cell_type": "markdown",
   "id": "8af2eb2b",
   "metadata": {},
   "source": [
    "## Word2Vec \n",
    "creates vectors of the words that are distributed numerical representations of word features – these word features could comprise of words that represent the context of the individual words present in our vocabulary. Word embeddings eventually help in establishing the association of a word with another similar meaning word through the created vectors.\n",
    "\n"
   ]
  },
  {
   "cell_type": "markdown",
   "id": "b0e51861",
   "metadata": {},
   "source": [
    "### steps\n",
    "* Tokenization of the sentences\n",
    "* create histograms\n",
    "* Take most frequent words\n",
    "* create a matrix with all the unique words . "
   ]
  },
  {
   "cell_type": "code",
   "execution_count": 4,
   "id": "456e08a9",
   "metadata": {},
   "outputs": [],
   "source": [
    "import nltk\n",
    "from gensim.models import Word2Vec\n",
    "from nltk.corpus import stopwords\n",
    "import re"
   ]
  },
  {
   "cell_type": "code",
   "execution_count": 3,
   "id": "e767c404",
   "metadata": {},
   "outputs": [],
   "source": [
    "para = '''Science is the investigation of any marvel or thing that can be watched and recorded. The information about that thing or marvel can be sorted out efficiently in predefined rules. Science is wherever around us. We have just barely started to comprehend the laws and the rules that oversee the working of our general surroundings in a manner that can be clarified in normal terms.\n",
    "\n",
    "Everything that can be clarified intelligently can be called science. In the old occasions since science was seen as clarifying a ton of occasions that were viewed as wonders of God, Christianity was against it. It shut down convictions, for example, human development, the earth being the focal point of the universe and so on. Today the life of solaces and facilitate that we live all gratitude to science.\n",
    "\n",
    "Science gets rationale and reasonability to all that occurs around us. As opposed to living in a condition of forecasts and expectation, we can be genuinely sure about how the morrow will spread out. Clinical Science has helped us comprehend the working of the human body. This has empowered the clinical investigations that find medicines making headways on personal satisfaction.\n",
    "\n",
    "The modern world is totally founded on the standards of science. Present-day transport also is an endowment of science whether it is on water, land or air; and these are turning out to be increasingly more progressed with the death of years.\n",
    "\n",
    "Building science has brought to us structures that are utilizing better assets and making them more secure, particularly in regions inclined to quakes, floods, volcanoes and so on. Data Technology as a science is making the trade of data simple and productive, thanks to web and PCs. Veterinary science is helping creatures in having a superior life. They can be dealt with, relieved and given a superior sickness free life.\n",
    "'''"
   ]
  },
  {
   "cell_type": "code",
   "execution_count": 5,
   "id": "0c07ed70",
   "metadata": {},
   "outputs": [],
   "source": [
    "text = re.sub(r'\\[[0-9]*\\]',' ',para )\n",
    "text=re.sub(r'\\s+',' ',text)\n",
    "text= text.lower()\n",
    "text=re.sub(r'\\d',' ',text)\n",
    "text=re.sub(r'\\s+',' ',text)"
   ]
  },
  {
   "cell_type": "code",
   "execution_count": 6,
   "id": "5d0f222d",
   "metadata": {},
   "outputs": [
    {
     "data": {
      "text/plain": [
       "'science is the investigation of any marvel or thing that can be watched and recorded. the information about that thing or marvel can be sorted out efficiently in predefined rules. science is wherever around us. we have just barely started to comprehend the laws and the rules that oversee the working of our general surroundings in a manner that can be clarified in normal terms. everything that can be clarified intelligently can be called science. in the old occasions since science was seen as clarifying a ton of occasions that were viewed as wonders of god, christianity was against it. it shut down convictions, for example, human development, the earth being the focal point of the universe and so on. today the life of solaces and facilitate that we live all gratitude to science. science gets rationale and reasonability to all that occurs around us. as opposed to living in a condition of forecasts and expectation, we can be genuinely sure about how the morrow will spread out. clinical science has helped us comprehend the working of the human body. this has empowered the clinical investigations that find medicines making headways on personal satisfaction. the modern world is totally founded on the standards of science. present-day transport also is an endowment of science whether it is on water, land or air; and these are turning out to be increasingly more progressed with the death of years. building science has brought to us structures that are utilizing better assets and making them more secure, particularly in regions inclined to quakes, floods, volcanoes and so on. data technology as a science is making the trade of data simple and productive, thanks to web and pcs. veterinary science is helping creatures in having a superior life. they can be dealt with, relieved and given a superior sickness free life. '"
      ]
     },
     "execution_count": 6,
     "metadata": {},
     "output_type": "execute_result"
    }
   ],
   "source": [
    "text"
   ]
  },
  {
   "cell_type": "code",
   "execution_count": 9,
   "id": "b52d9e7e",
   "metadata": {},
   "outputs": [],
   "source": [
    "sentences = nltk.sent_tokenize(text)\n",
    "sentences =[nltk.word_tokenize(sentence) for sentence in sentences ]\n"
   ]
  },
  {
   "cell_type": "code",
   "execution_count": 10,
   "id": "38237811",
   "metadata": {},
   "outputs": [],
   "source": [
    "for i in range(len(sentences)):\n",
    "    sentences[i]=[word for word in sentences[i] if word not in stopwords.words(\"english\") ]"
   ]
  },
  {
   "cell_type": "code",
   "execution_count": 11,
   "id": "6d71d73c",
   "metadata": {},
   "outputs": [],
   "source": [
    "model =Word2Vec(sentences,min_count=1)"
   ]
  },
  {
   "cell_type": "code",
   "execution_count": 16,
   "id": "683198e4",
   "metadata": {},
   "outputs": [],
   "source": [
    "words = list(model.wv.index_to_key)"
   ]
  },
  {
   "cell_type": "code",
   "execution_count": 18,
   "id": "fcccaf7d",
   "metadata": {},
   "outputs": [],
   "source": [
    "words =[word for word in words if word not in ['.',',']]"
   ]
  },
  {
   "cell_type": "code",
   "execution_count": 19,
   "id": "952ba1d3",
   "metadata": {},
   "outputs": [
    {
     "data": {
      "text/plain": [
       "['science',\n",
       " 'us',\n",
       " 'making',\n",
       " 'life',\n",
       " 'data',\n",
       " 'comprehend',\n",
       " 'superior',\n",
       " 'marvel',\n",
       " 'clinical',\n",
       " 'working',\n",
       " 'rules',\n",
       " 'occasions',\n",
       " 'around',\n",
       " 'clarified',\n",
       " 'thing',\n",
       " 'human',\n",
       " 'development',\n",
       " 'example',\n",
       " 'reasonability',\n",
       " 'convictions',\n",
       " 'shut',\n",
       " 'christianity',\n",
       " 'occurs',\n",
       " 'god',\n",
       " 'earth',\n",
       " 'universe',\n",
       " 'focal',\n",
       " 'point',\n",
       " 'rationale',\n",
       " 'today',\n",
       " 'viewed',\n",
       " 'solaces',\n",
       " 'facilitate',\n",
       " 'live',\n",
       " 'gratitude',\n",
       " 'gets',\n",
       " 'wonders',\n",
       " 'old',\n",
       " 'ton',\n",
       " 'clarifying',\n",
       " 'investigation',\n",
       " 'watched',\n",
       " 'recorded',\n",
       " 'information',\n",
       " 'sorted',\n",
       " 'efficiently',\n",
       " 'predefined',\n",
       " 'wherever',\n",
       " 'barely',\n",
       " 'started',\n",
       " 'laws',\n",
       " 'oversee',\n",
       " 'general',\n",
       " 'surroundings',\n",
       " 'manner',\n",
       " 'normal',\n",
       " 'terms',\n",
       " 'everything',\n",
       " 'intelligently',\n",
       " 'called',\n",
       " 'living',\n",
       " 'since',\n",
       " 'seen',\n",
       " 'opposed',\n",
       " 'free',\n",
       " 'condition',\n",
       " 'floods',\n",
       " 'death',\n",
       " 'years',\n",
       " 'building',\n",
       " 'brought',\n",
       " 'structures',\n",
       " 'utilizing',\n",
       " 'better',\n",
       " 'assets',\n",
       " 'secure',\n",
       " 'particularly',\n",
       " 'regions',\n",
       " 'inclined',\n",
       " 'quakes',\n",
       " 'volcanoes',\n",
       " 'forecasts',\n",
       " 'technology',\n",
       " 'trade',\n",
       " 'simple',\n",
       " 'productive',\n",
       " 'thanks',\n",
       " 'web',\n",
       " 'pcs',\n",
       " 'veterinary',\n",
       " 'helping',\n",
       " 'creatures',\n",
       " 'dealt',\n",
       " 'relieved',\n",
       " 'given',\n",
       " 'progressed',\n",
       " 'increasingly',\n",
       " 'turning',\n",
       " ';',\n",
       " 'sickness',\n",
       " 'genuinely',\n",
       " 'sure',\n",
       " 'morrow',\n",
       " 'spread',\n",
       " 'helped',\n",
       " 'body',\n",
       " 'empowered',\n",
       " 'investigations',\n",
       " 'find',\n",
       " 'medicines',\n",
       " 'headways',\n",
       " 'personal',\n",
       " 'satisfaction',\n",
       " 'modern',\n",
       " 'world',\n",
       " 'totally',\n",
       " 'founded',\n",
       " 'standards',\n",
       " 'present-day',\n",
       " 'transport',\n",
       " 'also',\n",
       " 'endowment',\n",
       " 'whether',\n",
       " 'water',\n",
       " 'land',\n",
       " 'air',\n",
       " 'expectation']"
      ]
     },
     "execution_count": 19,
     "metadata": {},
     "output_type": "execute_result"
    }
   ],
   "source": [
    "words"
   ]
  },
  {
   "cell_type": "code",
   "execution_count": 26,
   "id": "0792473b",
   "metadata": {},
   "outputs": [
    {
     "data": {
      "text/plain": [
       "array([ 7.3440094e-03,  3.7769024e-04,  2.4028416e-03, -5.9918063e-03,\n",
       "       -4.0552872e-03,  7.7247806e-03, -5.3402414e-03, -1.0950292e-03,\n",
       "        6.3980576e-03, -2.5345769e-03,  7.8497473e-03, -6.7260847e-03,\n",
       "        7.5467648e-03, -5.2317148e-03,  5.3594522e-03,  2.8968542e-03,\n",
       "       -9.1863014e-03, -4.0811654e-03,  2.8282620e-03, -6.0398453e-03,\n",
       "       -8.4895790e-03,  2.7332574e-04, -1.0478110e-03,  4.8884447e-03,\n",
       "       -9.0625491e-03, -5.0312965e-03,  1.8579026e-03, -3.2743069e-03,\n",
       "        9.7862277e-03, -1.0017799e-02,  7.1893539e-03, -3.7358270e-04,\n",
       "       -1.5578030e-04,  7.6861605e-03, -6.2868856e-03,  8.1292540e-03,\n",
       "        4.7548120e-03,  5.9033260e-03, -3.7334803e-03, -5.9163929e-03,\n",
       "        4.3713460e-03, -3.3373609e-03, -4.4374927e-03, -8.3680674e-03,\n",
       "        2.3121233e-03,  9.8365103e-04, -3.5940155e-03,  3.3087393e-03,\n",
       "       -9.2438661e-04, -5.4555982e-03, -1.3502727e-04,  8.2584349e-03,\n",
       "        1.7882783e-03,  1.2238373e-03, -8.2491171e-03, -4.8690066e-03,\n",
       "       -9.2570987e-03, -3.6313087e-03, -7.7584931e-03,  3.5166321e-03,\n",
       "       -6.1379760e-03, -2.4460026e-03,  7.0051835e-03, -6.6153663e-03,\n",
       "        8.7469807e-03, -5.3228781e-04,  1.4754864e-03, -5.7844189e-03,\n",
       "       -7.6966039e-03,  3.6664680e-03,  8.3196862e-03, -1.5155155e-03,\n",
       "       -6.0080299e-03, -4.6963235e-03,  4.3157004e-03, -6.9392575e-03,\n",
       "       -6.8996856e-03, -7.6359292e-03, -7.1703695e-04, -7.2723371e-03,\n",
       "       -8.3130281e-03, -2.5593902e-03, -6.3366732e-03, -2.2217853e-03,\n",
       "       -2.5194373e-03,  5.5894158e-03, -4.0360643e-03, -3.2358109e-03,\n",
       "       -1.6684392e-03, -9.4452314e-03, -3.8136055e-03, -4.2317915e-03,\n",
       "        3.4712637e-03, -8.6285714e-03, -7.5541562e-03, -3.3113784e-03,\n",
       "       -5.4655434e-03, -1.5350741e-05,  2.3253681e-04, -4.4637858e-03],\n",
       "      dtype=float32)"
      ]
     },
     "execution_count": 26,
     "metadata": {},
     "output_type": "execute_result"
    }
   ],
   "source": [
    "vector = model.wv['water']\n",
    "vector"
   ]
  },
  {
   "cell_type": "code",
   "execution_count": null,
   "id": "f21c03a9",
   "metadata": {},
   "outputs": [],
   "source": []
  },
  {
   "cell_type": "code",
   "execution_count": 27,
   "id": "559b9fcc",
   "metadata": {},
   "outputs": [
    {
     "data": {
      "text/plain": [
       "[('universe', 0.18890506029129028),\n",
       " ('shut', 0.1883353739976883),\n",
       " ('genuinely', 0.1850401908159256),\n",
       " ('started', 0.1846368908882141),\n",
       " ('whether', 0.18366174399852753),\n",
       " ('given', 0.1797695755958557),\n",
       " ('development', 0.16218270361423492),\n",
       " ('better', 0.1617654711008072),\n",
       " ('around', 0.1611034870147705),\n",
       " ('condition', 0.15963736176490784)]"
      ]
     },
     "execution_count": 27,
     "metadata": {},
     "output_type": "execute_result"
    }
   ],
   "source": [
    "similar = model.wv.most_similar('science')\n",
    "similar"
   ]
  },
  {
   "cell_type": "code",
   "execution_count": 28,
   "id": "9e4c543c",
   "metadata": {},
   "outputs": [
    {
     "data": {
      "text/plain": [
       "<bound method Word2Vec.build_vocab of <gensim.models.word2vec.Word2Vec object at 0x0000029DA23A6250>>"
      ]
     },
     "execution_count": 28,
     "metadata": {},
     "output_type": "execute_result"
    }
   ],
   "source": [
    "model.build_vocab"
   ]
  },
  {
   "cell_type": "code",
   "execution_count": null,
   "id": "356bcab0",
   "metadata": {},
   "outputs": [],
   "source": []
  }
 ],
 "metadata": {
  "kernelspec": {
   "display_name": "Python 3 (ipykernel)",
   "language": "python",
   "name": "python3"
  },
  "language_info": {
   "codemirror_mode": {
    "name": "ipython",
    "version": 3
   },
   "file_extension": ".py",
   "mimetype": "text/x-python",
   "name": "python",
   "nbconvert_exporter": "python",
   "pygments_lexer": "ipython3",
   "version": "3.9.12"
  }
 },
 "nbformat": 4,
 "nbformat_minor": 5
}
