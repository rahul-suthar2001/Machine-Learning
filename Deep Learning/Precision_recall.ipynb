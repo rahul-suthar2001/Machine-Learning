{
  "nbformat": 4,
  "nbformat_minor": 0,
  "metadata": {
    "colab": {
      "provenance": [],
      "authorship_tag": "ABX9TyOF0QlSMwlhsjqqAtcaDjBL",
      "include_colab_link": true
    },
    "kernelspec": {
      "name": "python3",
      "display_name": "Python 3"
    },
    "language_info": {
      "name": "python"
    }
  },
  "cells": [
    {
      "cell_type": "markdown",
      "metadata": {
        "id": "view-in-github",
        "colab_type": "text"
      },
      "source": [
        "<a href=\"https://colab.research.google.com/github/rahul-suthar2001/Machine-Learning/blob/main/Deep%20Learning/Precision_recall.ipynb\" target=\"_parent\"><img src=\"https://colab.research.google.com/assets/colab-badge.svg\" alt=\"Open In Colab\"/></a>"
      ]
    },
    {
      "cell_type": "code",
      "execution_count": 29,
      "metadata": {
        "id": "IelcU1sJfg_w"
      },
      "outputs": [],
      "source": [
        "import seaborn as sns\n",
        "from sklearn.metrics import confusion_matrix,ConfusionMatrixDisplay,classification_report"
      ]
    },
    {
      "cell_type": "code",
      "source": [
        "truth = [\" Dog \" , \" Not a dog \" , \" Dog \" , \" Dog \" , \" Dog \" , \" Not a dog \" , \" Not a dog \" , \" Dog \" ,\" Dog \" , \" Not a dog \" ]\n",
        "prediction = [ \" Dog \" , \" Dog \" , \" Dog \" , \" Not a dog \" , \" Dog \" , \" Not a dog \" , \" Dog \" , \" Not a dog \",\" Dog \" ,\" Dog \"  ]"
      ],
      "metadata": {
        "id": "tDbwpd39NZNb"
      },
      "execution_count": 21,
      "outputs": []
    },
    {
      "cell_type": "code",
      "source": [
        "len(truth)"
      ],
      "metadata": {
        "colab": {
          "base_uri": "https://localhost:8080/"
        },
        "id": "3fPzTH9tN4KH",
        "outputId": "ecbaa32d-6c2e-43db-b115-03a7e577d53a"
      },
      "execution_count": 22,
      "outputs": [
        {
          "output_type": "execute_result",
          "data": {
            "text/plain": [
              "10"
            ]
          },
          "metadata": {},
          "execution_count": 22
        }
      ]
    },
    {
      "cell_type": "code",
      "source": [
        "len(prediction)"
      ],
      "metadata": {
        "colab": {
          "base_uri": "https://localhost:8080/"
        },
        "id": "SZS_ELKiN53T",
        "outputId": "33fbd211-76e5-4b47-9b68-18b62f01f477"
      },
      "execution_count": 23,
      "outputs": [
        {
          "output_type": "execute_result",
          "data": {
            "text/plain": [
              "10"
            ]
          },
          "metadata": {},
          "execution_count": 23
        }
      ]
    },
    {
      "cell_type": "code",
      "source": [
        "cm = confusion_matrix(truth,prediction)\n",
        "cm"
      ],
      "metadata": {
        "colab": {
          "base_uri": "https://localhost:8080/"
        },
        "id": "WpCpYwfkN7Kj",
        "outputId": "63300145-ec46-4daa-efe0-7491fc1dfa66"
      },
      "execution_count": 24,
      "outputs": [
        {
          "output_type": "execute_result",
          "data": {
            "text/plain": [
              "array([[4, 2],\n",
              "       [3, 1]])"
            ]
          },
          "metadata": {},
          "execution_count": 24
        }
      ]
    },
    {
      "cell_type": "code",
      "source": [
        "ConfusionMatrixDisplay(cm,display_labels=['Dog',\"Not a Dog\"]).plot()"
      ],
      "metadata": {
        "colab": {
          "base_uri": "https://localhost:8080/",
          "height": 300
        },
        "id": "vDkqYbFnOJ1w",
        "outputId": "4959204e-c8a0-410a-bfaa-f294994a4456"
      },
      "execution_count": 28,
      "outputs": [
        {
          "output_type": "execute_result",
          "data": {
            "text/plain": [
              "<sklearn.metrics._plot.confusion_matrix.ConfusionMatrixDisplay at 0x7f3a127227d0>"
            ]
          },
          "metadata": {},
          "execution_count": 28
        },
        {
          "output_type": "display_data",
          "data": {
            "text/plain": [
              "<Figure size 432x288 with 2 Axes>"
            ],
            "image/png": "[encoded data removed]"
          },
          "metadata": {
            "needs_background": "light"
          }
        }
      ]
    },
    {
      "cell_type": "code",
      "source": [
        "print(classification_report(truth,prediction))"
      ],
      "metadata": {
        "colab": {
          "base_uri": "https://localhost:8080/"
        },
        "id": "QUmn-DBhObWA",
        "outputId": "8caec0d3-2eb9-437e-b9bb-b33ccc11ff4f"
      },
      "execution_count": 30,
      "outputs": [
        {
          "output_type": "stream",
          "name": "stdout",
          "text": [
            "              precision    recall  f1-score   support\n",
            "\n",
            "        Dog        0.57      0.67      0.62         6\n",
            "  Not a dog        0.33      0.25      0.29         4\n",
            "\n",
            "    accuracy                           0.50        10\n",
            "   macro avg       0.45      0.46      0.45        10\n",
            "weighted avg       0.48      0.50      0.48        10\n",
            "\n"
          ]
        }
      ]
    },
    {
      "cell_type": "code",
      "source": [],
      "metadata": {
        "id": "SJeRU2xJP8oN"
      },
      "execution_count": null,
      "outputs": []
    }
  ]
}