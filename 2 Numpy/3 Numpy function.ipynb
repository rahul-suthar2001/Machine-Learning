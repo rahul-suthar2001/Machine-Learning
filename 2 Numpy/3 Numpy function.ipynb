{
 "cells": [
  {
   "cell_type": "code",
   "execution_count": 3,
   "id": "526ae9fc",
   "metadata": {},
   "outputs": [],
   "source": [
    "import numpy as np\n"
   ]
  },
  {
   "cell_type": "code",
   "execution_count": 5,
   "id": "847633f3",
   "metadata": {},
   "outputs": [
    {
     "name": "stdout",
     "output_type": "stream",
     "text": [
      "[1 2 3 4] [6 7 8 9]\n"
     ]
    }
   ],
   "source": [
    "arr1=np.arange(1,5)\n",
    "arr2 = np.arange(6,10)\n",
    "print(arr1,arr2)"
   ]
  },
  {
   "cell_type": "code",
   "execution_count": 11,
   "id": "11bc4700",
   "metadata": {},
   "outputs": [
    {
     "name": "stdout",
     "output_type": "stream",
     "text": [
      "[1 2 3 4 6 7 8 9]\n"
     ]
    }
   ],
   "source": [
    "# concatenate array\n",
    "concatArr = np.concatenate((arr1,arr2))\n",
    "print(concatArr)"
   ]
  },
  {
   "cell_type": "code",
   "execution_count": null,
   "id": "dda62112",
   "metadata": {},
   "outputs": [],
   "source": []
  },
  {
   "cell_type": "code",
   "execution_count": 14,
   "id": "6748fd47",
   "metadata": {},
   "outputs": [
    {
     "name": "stdout",
     "output_type": "stream",
     "text": [
      "[[2 3 5]\n",
      " [0 7 6]]\n",
      "[[14 16 13]\n",
      " [17 14 13]]\n"
     ]
    }
   ],
   "source": [
    "mat1 = np.random.randint(0,10,size=(2,3))\n",
    "mat2 = np.random.randint(10,20,size=(2,3))\n",
    "print(mat1)\n",
    "print(mat2)"
   ]
  },
  {
   "cell_type": "code",
   "execution_count": 18,
   "id": "6f1c53f4",
   "metadata": {},
   "outputs": [
    {
     "name": "stdout",
     "output_type": "stream",
     "text": [
      "[[ 2  3  5]\n",
      " [ 0  7  6]\n",
      " [14 16 13]\n",
      " [17 14 13]]\n"
     ]
    }
   ],
   "source": [
    "concatMat = np.concatenate((mat1,mat2)\n",
    "print(concatMat)\n",
    "                          "
   ]
  },
  {
   "cell_type": "code",
   "execution_count": 24,
   "id": "526f2388",
   "metadata": {},
   "outputs": [
    {
     "name": "stdout",
     "output_type": "stream",
     "text": [
      "[[ 2  3  5 14 16 13]\n",
      " [ 0  7  6 17 14 13]]\n"
     ]
    }
   ],
   "source": [
    "concatMat2= np.concatenate((mat1,mat2),axis=1)# default axis is 0\n",
    "print(concatMat2)"
   ]
  },
  {
   "cell_type": "code",
   "execution_count": 26,
   "id": "5ef3bf8e",
   "metadata": {},
   "outputs": [
    {
     "name": "stdout",
     "output_type": "stream",
     "text": [
      "[[14 16 13  2  3  5]\n",
      " [17 14 13  0  7  6]]\n"
     ]
    }
   ],
   "source": [
    "concatMat3= np.concatenate((mat2,mat1),axis=1)# default axis is 0\n",
    "print(concatMat3)"
   ]
  },
  {
   "cell_type": "code",
   "execution_count": 27,
   "id": "6feb7701",
   "metadata": {},
   "outputs": [
    {
     "name": "stdout",
     "output_type": "stream",
     "text": [
      "[[ 2  3  5 14 16 13]\n",
      " [ 0  7  6 17 14 13]]\n"
     ]
    }
   ],
   "source": [
    "print(np.hstack((mat1,mat2)))"
   ]
  },
  {
   "cell_type": "code",
   "execution_count": null,
   "id": "ea739dd7",
   "metadata": {},
   "outputs": [],
   "source": []
  },
  {
   "cell_type": "code",
   "execution_count": null,
   "id": "8eec54eb",
   "metadata": {},
   "outputs": [],
   "source": []
  },
  {
   "cell_type": "code",
   "execution_count": null,
   "id": "65265ddc",
   "metadata": {},
   "outputs": [],
   "source": []
  },
  {
   "cell_type": "code",
   "execution_count": 38,
   "id": "7be27b0c",
   "metadata": {},
   "outputs": [
    {
     "name": "stdout",
     "output_type": "stream",
     "text": [
      "[[[9 0 2]\n",
      "  [4 7 5]]\n",
      "\n",
      " [[2 4 2]\n",
      "  [7 0 9]]]\n",
      "\n",
      "[[[12 17 10]\n",
      "  [15 13 17]]\n",
      "\n",
      " [[17 12 17]\n",
      "  [14 14 16]]]\n"
     ]
    }
   ],
   "source": [
    "t1 = np.random.randint(0,10,size=(2,2,3))\n",
    "t2 = np.random.randint(10,20,size=(2,2,3))\n",
    "print(t1)\n",
    "print()\n",
    "print(t2)"
   ]
  },
  {
   "cell_type": "code",
   "execution_count": 39,
   "id": "7996dbb6",
   "metadata": {},
   "outputs": [
    {
     "name": "stdout",
     "output_type": "stream",
     "text": [
      "[[[ 9  0  2]\n",
      "  [ 4  7  5]]\n",
      "\n",
      " [[ 2  4  2]\n",
      "  [ 7  0  9]]\n",
      "\n",
      " [[12 17 10]\n",
      "  [15 13 17]]\n",
      "\n",
      " [[17 12 17]\n",
      "  [14 14 16]]]\n"
     ]
    }
   ],
   "source": [
    "# axis-0 join\n",
    "ans = np.concatenate((t1,t2),axis=0)\n",
    "print(ans)"
   ]
  },
  {
   "cell_type": "code",
   "execution_count": 40,
   "id": "e7e7d816",
   "metadata": {},
   "outputs": [
    {
     "name": "stdout",
     "output_type": "stream",
     "text": [
      "[[[ 9  0  2]\n",
      "  [ 4  7  5]\n",
      "  [12 17 10]\n",
      "  [15 13 17]]\n",
      "\n",
      " [[ 2  4  2]\n",
      "  [ 7  0  9]\n",
      "  [17 12 17]\n",
      "  [14 14 16]]]\n"
     ]
    }
   ],
   "source": [
    "# axis-1 join\n",
    "ans2 = np.concatenate((t1,t2),axis=1)\n",
    "print(ans2)"
   ]
  },
  {
   "cell_type": "code",
   "execution_count": 41,
   "id": "f99d5501",
   "metadata": {},
   "outputs": [
    {
     "name": "stdout",
     "output_type": "stream",
     "text": [
      "[[[ 9  0  2 12 17 10]\n",
      "  [ 4  7  5 15 13 17]]\n",
      "\n",
      " [[ 2  4  2 17 12 17]\n",
      "  [ 7  0  9 14 14 16]]]\n"
     ]
    }
   ],
   "source": [
    "#axis-2 join\n",
    "ans3 = np.concatenate((t1,t2),axis=2)\n",
    "print(ans3)"
   ]
  },
  {
   "cell_type": "code",
   "execution_count": 78,
   "id": "bbc34643",
   "metadata": {},
   "outputs": [],
   "source": [
    "#In concatenate shape of array should same \n",
    "# so we hstack and vstack numpy function \n",
    "arr3 = np.arange(1,5)\n",
    "arr4  = np.random.randint(1,10,size=(2,4))\n"
   ]
  },
  {
   "cell_type": "code",
   "execution_count": 79,
   "id": "e5fcec9d",
   "metadata": {},
   "outputs": [
    {
     "ename": "ValueError",
     "evalue": "all the input arrays must have same number of dimensions, but the array at index 0 has 1 dimension(s) and the array at index 1 has 2 dimension(s)",
     "output_type": "error",
     "traceback": [
      "\u001b[1;31m---------------------------------------------------------------------------\u001b[0m",
      "\u001b[1;31mValueError\u001b[0m                                Traceback (most recent call last)",
      "Input \u001b[1;32mIn [79]\u001b[0m, in \u001b[0;36m<cell line: 1>\u001b[1;34m()\u001b[0m\n\u001b[1;32m----> 1\u001b[0m \u001b[38;5;28mprint\u001b[39m(\u001b[43mnp\u001b[49m\u001b[38;5;241;43m.\u001b[39;49m\u001b[43mconcatenate\u001b[49m\u001b[43m(\u001b[49m\u001b[43m(\u001b[49m\u001b[43marr3\u001b[49m\u001b[43m,\u001b[49m\u001b[43marr4\u001b[49m\u001b[43m)\u001b[49m\u001b[43m)\u001b[49m)\n",
      "File \u001b[1;32m<__array_function__ internals>:180\u001b[0m, in \u001b[0;36mconcatenate\u001b[1;34m(*args, **kwargs)\u001b[0m\n",
      "\u001b[1;31mValueError\u001b[0m: all the input arrays must have same number of dimensions, but the array at index 0 has 1 dimension(s) and the array at index 1 has 2 dimension(s)"
     ]
    }
   ],
   "source": [
    "print(np.concatenate((arr3,arr4)))"
   ]
  },
  {
   "cell_type": "code",
   "execution_count": 80,
   "id": "deec1cc5",
   "metadata": {},
   "outputs": [
    {
     "data": {
      "text/plain": [
       "array([[1, 2, 3, 4],\n",
       "       [3, 6, 9, 6],\n",
       "       [2, 5, 6, 8]])"
      ]
     },
     "execution_count": 80,
     "metadata": {},
     "output_type": "execute_result"
    }
   ],
   "source": [
    "np.vstack([arr3,arr4])"
   ]
  },
  {
   "cell_type": "code",
   "execution_count": 81,
   "id": "618b0f89",
   "metadata": {},
   "outputs": [
    {
     "ename": "ValueError",
     "evalue": "all the input arrays must have same number of dimensions, but the array at index 0 has 1 dimension(s) and the array at index 1 has 2 dimension(s)",
     "output_type": "error",
     "traceback": [
      "\u001b[1;31m---------------------------------------------------------------------------\u001b[0m",
      "\u001b[1;31mValueError\u001b[0m                                Traceback (most recent call last)",
      "Input \u001b[1;32mIn [81]\u001b[0m, in \u001b[0;36m<cell line: 1>\u001b[1;34m()\u001b[0m\n\u001b[1;32m----> 1\u001b[0m \u001b[43mnp\u001b[49m\u001b[38;5;241;43m.\u001b[39;49m\u001b[43mhstack\u001b[49m\u001b[43m(\u001b[49m\u001b[43m[\u001b[49m\u001b[43marr3\u001b[49m\u001b[43m,\u001b[49m\u001b[43marr4\u001b[49m\u001b[43m]\u001b[49m\u001b[43m)\u001b[49m\n",
      "File \u001b[1;32m<__array_function__ internals>:180\u001b[0m, in \u001b[0;36mhstack\u001b[1;34m(*args, **kwargs)\u001b[0m\n",
      "File \u001b[1;32m~\\anaconda3\\lib\\site-packages\\numpy\\core\\shape_base.py:343\u001b[0m, in \u001b[0;36mhstack\u001b[1;34m(tup)\u001b[0m\n\u001b[0;32m    341\u001b[0m \u001b[38;5;66;03m# As a special case, dimension 0 of 1-dimensional arrays is \"horizontal\"\u001b[39;00m\n\u001b[0;32m    342\u001b[0m \u001b[38;5;28;01mif\u001b[39;00m arrs \u001b[38;5;129;01mand\u001b[39;00m arrs[\u001b[38;5;241m0\u001b[39m]\u001b[38;5;241m.\u001b[39mndim \u001b[38;5;241m==\u001b[39m \u001b[38;5;241m1\u001b[39m:\n\u001b[1;32m--> 343\u001b[0m     \u001b[38;5;28;01mreturn\u001b[39;00m \u001b[43m_nx\u001b[49m\u001b[38;5;241;43m.\u001b[39;49m\u001b[43mconcatenate\u001b[49m\u001b[43m(\u001b[49m\u001b[43marrs\u001b[49m\u001b[43m,\u001b[49m\u001b[43m \u001b[49m\u001b[38;5;241;43m0\u001b[39;49m\u001b[43m)\u001b[49m\n\u001b[0;32m    344\u001b[0m \u001b[38;5;28;01melse\u001b[39;00m:\n\u001b[0;32m    345\u001b[0m     \u001b[38;5;28;01mreturn\u001b[39;00m _nx\u001b[38;5;241m.\u001b[39mconcatenate(arrs, \u001b[38;5;241m1\u001b[39m)\n",
      "File \u001b[1;32m<__array_function__ internals>:180\u001b[0m, in \u001b[0;36mconcatenate\u001b[1;34m(*args, **kwargs)\u001b[0m\n",
      "\u001b[1;31mValueError\u001b[0m: all the input arrays must have same number of dimensions, but the array at index 0 has 1 dimension(s) and the array at index 1 has 2 dimension(s)"
     ]
    }
   ],
   "source": [
    "np.hstack([arr3,arr4])"
   ]
  },
  {
   "cell_type": "code",
   "execution_count": 82,
   "id": "bc0e1dc7",
   "metadata": {},
   "outputs": [
    {
     "data": {
      "text/plain": [
       "array([[3, 6, 9, 6],\n",
       "       [2, 5, 6, 8]])"
      ]
     },
     "execution_count": 82,
     "metadata": {},
     "output_type": "execute_result"
    }
   ],
   "source": [
    "arr4\n"
   ]
  },
  {
   "cell_type": "code",
   "execution_count": 83,
   "id": "1f70785e",
   "metadata": {},
   "outputs": [
    {
     "data": {
      "text/plain": [
       "array([1, 2, 3, 4])"
      ]
     },
     "execution_count": 83,
     "metadata": {},
     "output_type": "execute_result"
    }
   ],
   "source": [
    "arr3"
   ]
  },
  {
   "cell_type": "code",
   "execution_count": 84,
   "id": "033862f4",
   "metadata": {},
   "outputs": [],
   "source": [
    "arr3=arr3.reshape((4,1))"
   ]
  },
  {
   "cell_type": "code",
   "execution_count": 87,
   "id": "d4589963",
   "metadata": {},
   "outputs": [],
   "source": [
    "arr4=arr4.reshape((4,2))"
   ]
  },
  {
   "cell_type": "code",
   "execution_count": 88,
   "id": "72c817b7",
   "metadata": {},
   "outputs": [
    {
     "data": {
      "text/plain": [
       "array([[1, 3, 6],\n",
       "       [2, 9, 6],\n",
       "       [3, 2, 5],\n",
       "       [4, 6, 8]])"
      ]
     },
     "execution_count": 88,
     "metadata": {},
     "output_type": "execute_result"
    }
   ],
   "source": [
    "np.hstack([arr3,arr4])"
   ]
  },
  {
   "cell_type": "code",
   "execution_count": 98,
   "id": "e2eb5235",
   "metadata": {},
   "outputs": [
    {
     "name": "stdout",
     "output_type": "stream",
     "text": [
      "(2, 6)\n",
      "[[ 1  2  3  4  5  6]\n",
      " [ 5  6  7  8  9 10]]\n"
     ]
    }
   ],
   "source": [
    "arr5 =np.array([np.arange(1,7),np.arange(5,11)])\n",
    "print(arr5.shape)\n",
    "print(arr5)"
   ]
  },
  {
   "cell_type": "code",
   "execution_count": 100,
   "id": "1898ac27",
   "metadata": {},
   "outputs": [
    {
     "data": {
      "text/plain": [
       "array([[ 1,  2],\n",
       "       [ 3,  4],\n",
       "       [ 5,  6],\n",
       "       [ 5,  6],\n",
       "       [ 7,  8],\n",
       "       [ 9, 10]])"
      ]
     },
     "execution_count": 100,
     "metadata": {},
     "output_type": "execute_result"
    }
   ],
   "source": [
    "# reshape\n",
    "arr5 = np.reshape(arr5,(6,2))\n",
    "arr5"
   ]
  },
  {
   "cell_type": "code",
   "execution_count": 101,
   "id": "9ac0eb18",
   "metadata": {},
   "outputs": [
    {
     "name": "stdout",
     "output_type": "stream",
     "text": [
      "[[ 1  2  3]\n",
      " [ 4  5  6]\n",
      " [ 5  6  7]\n",
      " [ 8  9 10]]\n"
     ]
    }
   ],
   "source": [
    "arr5 = arr5.reshape((4,3))\n",
    "print(arr5)"
   ]
  },
  {
   "cell_type": "code",
   "execution_count": null,
   "id": "db260f4c",
   "metadata": {},
   "outputs": [],
   "source": []
  },
  {
   "cell_type": "markdown",
   "id": "a975d79a",
   "metadata": {},
   "source": [
    "### Question\n",
    "Normalize the marks of students"
   ]
  },
  {
   "cell_type": "markdown",
   "id": "a859a211",
   "metadata": {},
   "source": [
    "### curving\n",
    "1. center =user define\n",
    "2. avg \n",
    "3. change = center-avg\n",
    "4. normalize marks =  marks[i]+ change\n",
    "     also clip the value so noone marks can exceed limit"
   ]
  },
  {
   "cell_type": "code",
   "execution_count": 162,
   "id": "0e7f51d1",
   "metadata": {},
   "outputs": [
    {
     "name": "stdout",
     "output_type": "stream",
     "text": [
      "[ 52  70  68  49 100  76 100]\n"
     ]
    }
   ],
   "source": [
    "marks_Student = np.array([32,50,48,29,80,56,90])\n",
    "avg = np.average(marks_Student)\n",
    "center = 75\n",
    "change  = center-avg\n",
    "marks_Student= np.add(marks_Student,change)\n",
    "marks_Student= np.clip(marks_Student,0,100).astype('int32')\n",
    "print(marks_Student)"
   ]
  },
  {
   "cell_type": "code",
   "execution_count": 149,
   "id": "23cec7cc",
   "metadata": {},
   "outputs": [],
   "source": []
  },
  {
   "cell_type": "code",
   "execution_count": null,
   "id": "1e6c3273",
   "metadata": {},
   "outputs": [],
   "source": []
  },
  {
   "cell_type": "code",
   "execution_count": 151,
   "id": "6941ffde",
   "metadata": {},
   "outputs": [],
   "source": []
  },
  {
   "cell_type": "code",
   "execution_count": 152,
   "id": "5b3cf7f0",
   "metadata": {},
   "outputs": [],
   "source": []
  },
  {
   "cell_type": "code",
   "execution_count": null,
   "id": "774118d3",
   "metadata": {},
   "outputs": [],
   "source": []
  },
  {
   "cell_type": "code",
   "execution_count": 154,
   "id": "79b066e4",
   "metadata": {},
   "outputs": [],
   "source": []
  },
  {
   "cell_type": "code",
   "execution_count": null,
   "id": "2dadac60",
   "metadata": {},
   "outputs": [],
   "source": []
  },
  {
   "cell_type": "code",
   "execution_count": 160,
   "id": "656bbb80",
   "metadata": {},
   "outputs": [],
   "source": []
  },
  {
   "cell_type": "code",
   "execution_count": null,
   "id": "c2bf5f3f",
   "metadata": {},
   "outputs": [],
   "source": []
  },
  {
   "cell_type": "code",
   "execution_count": null,
   "id": "e0c5c88b",
   "metadata": {},
   "outputs": [],
   "source": []
  }
 ],
 "metadata": {
  "kernelspec": {
   "display_name": "Python 3 (ipykernel)",
   "language": "python",
   "name": "python3"
  },
  "language_info": {
   "codemirror_mode": {
    "name": "ipython",
    "version": 3
   },
   "file_extension": ".py",
   "mimetype": "text/x-python",
   "name": "python",
   "nbconvert_exporter": "python",
   "pygments_lexer": "ipython3",
   "version": "3.9.12"
  }
 },
 "nbformat": 4,
 "nbformat_minor": 5
}
