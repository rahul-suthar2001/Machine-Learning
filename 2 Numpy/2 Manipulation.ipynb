{
 "cells": [
  {
   "cell_type": "code",
   "execution_count": 1,
   "id": "2667f445",
   "metadata": {},
   "outputs": [],
   "source": [
    "import numpy as np"
   ]
  },
  {
   "cell_type": "code",
   "execution_count": 63,
   "id": "67ed6a63",
   "metadata": {},
   "outputs": [
    {
     "data": {
      "text/plain": [
       "array([[54, 43],\n",
       "       [93, 91],\n",
       "       [22, 44],\n",
       "       [84, 80],\n",
       "       [16, 39],\n",
       "       [87, 74],\n",
       "       [53, 61],\n",
       "       [88, 33],\n",
       "       [56, 98],\n",
       "       [24, 75]])"
      ]
     },
     "execution_count": 63,
     "metadata": {},
     "output_type": "execute_result"
    }
   ],
   "source": [
    "arr = np.random.randint(10,100,(10,2))\n",
    "arr"
   ]
  },
  {
   "cell_type": "markdown",
   "id": "c317195e",
   "metadata": {},
   "source": [
    "## Attributes of Numpy array"
   ]
  },
  {
   "cell_type": "code",
   "execution_count": 64,
   "id": "3d82b5a8",
   "metadata": {},
   "outputs": [
    {
     "name": "stdout",
     "output_type": "stream",
     "text": [
      "(10, 2)\n",
      "(10, 2)\n"
     ]
    }
   ],
   "source": [
    "# shape\n",
    "print(np.shape(arr))\n",
    "print(arr.shape)"
   ]
  },
  {
   "cell_type": "code",
   "execution_count": 65,
   "id": "ad145f4b",
   "metadata": {},
   "outputs": [
    {
     "name": "stdout",
     "output_type": "stream",
     "text": [
      "2\n",
      "2\n"
     ]
    }
   ],
   "source": [
    "# dimension\n",
    "print(np.ndim(arr))\n",
    "print(arr.ndim)"
   ]
  },
  {
   "cell_type": "code",
   "execution_count": 66,
   "id": "b3f8ecd2",
   "metadata": {},
   "outputs": [
    {
     "name": "stdout",
     "output_type": "stream",
     "text": [
      "20\n"
     ]
    }
   ],
   "source": [
    "# size \n",
    "# total elements in array\n",
    "print(arr.size)"
   ]
  },
  {
   "cell_type": "code",
   "execution_count": 75,
   "id": "af1eb2c8",
   "metadata": {},
   "outputs": [
    {
     "data": {
      "text/plain": [
       "dtype('int32')"
      ]
     },
     "execution_count": 75,
     "metadata": {},
     "output_type": "execute_result"
    }
   ],
   "source": [
    "arr.dtype"
   ]
  },
  {
   "cell_type": "code",
   "execution_count": 76,
   "id": "602820a9",
   "metadata": {},
   "outputs": [],
   "source": [
    "arr.dtype = 'int8'"
   ]
  },
  {
   "cell_type": "code",
   "execution_count": 77,
   "id": "afe2d875",
   "metadata": {},
   "outputs": [
    {
     "name": "stdout",
     "output_type": "stream",
     "text": [
      "int8\n"
     ]
    }
   ],
   "source": [
    "print(arr.dtype) "
   ]
  },
  {
   "cell_type": "code",
   "execution_count": 78,
   "id": "dff70c0e",
   "metadata": {},
   "outputs": [
    {
     "data": {
      "text/plain": [
       "array([[7.57e-44, 6.03e-44],\n",
       "       [1.30e-43, 1.28e-43],\n",
       "       [3.08e-44, 6.17e-44],\n",
       "       [1.18e-43, 1.12e-43],\n",
       "       [2.24e-44, 5.47e-44],\n",
       "       [1.22e-43, 1.04e-43],\n",
       "       [7.43e-44, 8.55e-44],\n",
       "       [1.23e-43, 4.62e-44],\n",
       "       [7.85e-44, 1.37e-43],\n",
       "       [3.36e-44, 1.05e-43]], dtype=float32)"
      ]
     },
     "execution_count": 78,
     "metadata": {},
     "output_type": "execute_result"
    }
   ],
   "source": [
    "arr.dtype = 'float32'\n",
    "arr"
   ]
  },
  {
   "cell_type": "code",
   "execution_count": 79,
   "id": "f8355e83",
   "metadata": {},
   "outputs": [
    {
     "data": {
      "text/plain": [
       "dtype('float32')"
      ]
     },
     "execution_count": 79,
     "metadata": {},
     "output_type": "execute_result"
    }
   ],
   "source": [
    "arr.dtype"
   ]
  },
  {
   "cell_type": "code",
   "execution_count": 95,
   "id": "5cfe2f10",
   "metadata": {},
   "outputs": [
    {
     "name": "stdout",
     "output_type": "stream",
     "text": [
      "int8 bits\n",
      "1 bytes\n"
     ]
    }
   ],
   "source": [
    "arr.dtype ='int8'\n",
    "print(arr.dtype, \"bits\")\n",
    "print(arr.itemsize,\"bytes\")"
   ]
  },
  {
   "cell_type": "code",
   "execution_count": 96,
   "id": "17f4e429",
   "metadata": {},
   "outputs": [
    {
     "data": {
      "text/plain": [
       "array([[54,  0,  0,  0, 43,  0,  0,  0],\n",
       "       [93,  0,  0,  0, 91,  0,  0,  0],\n",
       "       [22,  0,  0,  0, 44,  0,  0,  0],\n",
       "       [84,  0,  0,  0, 80,  0,  0,  0],\n",
       "       [16,  0,  0,  0, 39,  0,  0,  0],\n",
       "       [87,  0,  0,  0, 74,  0,  0,  0],\n",
       "       [53,  0,  0,  0, 61,  0,  0,  0],\n",
       "       [88,  0,  0,  0, 33,  0,  0,  0],\n",
       "       [56,  0,  0,  0, 98,  0,  0,  0],\n",
       "       [24,  0,  0,  0, 75,  0,  0,  0]], dtype=int8)"
      ]
     },
     "execution_count": 96,
     "metadata": {},
     "output_type": "execute_result"
    }
   ],
   "source": [
    "arr"
   ]
  },
  {
   "cell_type": "code",
   "execution_count": 97,
   "id": "03d15c5d",
   "metadata": {},
   "outputs": [
    {
     "data": {
      "text/plain": [
       "array([[54, 43],\n",
       "       [93, 91],\n",
       "       [22, 44],\n",
       "       [84, 80],\n",
       "       [16, 39],\n",
       "       [87, 74],\n",
       "       [53, 61],\n",
       "       [88, 33],\n",
       "       [56, 98],\n",
       "       [24, 75]])"
      ]
     },
     "execution_count": 97,
     "metadata": {},
     "output_type": "execute_result"
    }
   ],
   "source": [
    "arr.dtype='int32'\n",
    "arr"
   ]
  },
  {
   "cell_type": "code",
   "execution_count": 98,
   "id": "fd741a15",
   "metadata": {},
   "outputs": [
    {
     "name": "stdout",
     "output_type": "stream",
     "text": [
      "4 bytes\n"
     ]
    }
   ],
   "source": [
    "print(arr.itemsize,\"bytes\")"
   ]
  },
  {
   "cell_type": "code",
   "execution_count": 104,
   "id": "96501a74",
   "metadata": {},
   "outputs": [],
   "source": [
    "arr= np.array([1,2,3],np.int8)"
   ]
  },
  {
   "cell_type": "code",
   "execution_count": 105,
   "id": "b05ca94c",
   "metadata": {},
   "outputs": [
    {
     "data": {
      "text/plain": [
       "dtype('int8')"
      ]
     },
     "execution_count": 105,
     "metadata": {},
     "output_type": "execute_result"
    }
   ],
   "source": [
    "arr.dtype"
   ]
  },
  {
   "cell_type": "code",
   "execution_count": 106,
   "id": "9a64533d",
   "metadata": {},
   "outputs": [
    {
     "data": {
      "text/plain": [
       "array([1, 2, 3], dtype=int16)"
      ]
     },
     "execution_count": 106,
     "metadata": {},
     "output_type": "execute_result"
    }
   ],
   "source": [
    "np.int16(arr)"
   ]
  },
  {
   "cell_type": "code",
   "execution_count": null,
   "id": "46094eb2",
   "metadata": {},
   "outputs": [],
   "source": []
  },
  {
   "cell_type": "markdown",
   "id": "a817ed6a",
   "metadata": {},
   "source": [
    "### indexing of arrays"
   ]
  },
  {
   "cell_type": "code",
   "execution_count": 111,
   "id": "b17c0572",
   "metadata": {},
   "outputs": [
    {
     "name": "stdout",
     "output_type": "stream",
     "text": [
      "[26 22 34 10 13 21 13 24 32 13]\n"
     ]
    }
   ],
   "source": [
    "arr = np.random.randint(10,50,10)\n",
    "print(arr)"
   ]
  },
  {
   "cell_type": "code",
   "execution_count": 113,
   "id": "2020883e",
   "metadata": {},
   "outputs": [
    {
     "name": "stdout",
     "output_type": "stream",
     "text": [
      "[[38 38 15 34 39]\n",
      " [19 16 33 38 30]]\n"
     ]
    }
   ],
   "source": [
    "arr2 = np.random.randint(10,50,(2,5))\n",
    "print(arr2)"
   ]
  },
  {
   "cell_type": "code",
   "execution_count": 119,
   "id": "299078fc",
   "metadata": {},
   "outputs": [
    {
     "data": {
      "text/plain": [
       "array([[ 38,  38,  15,  34,  39],\n",
       "       [ 19,  16, 100,  38,  30]])"
      ]
     },
     "execution_count": 119,
     "metadata": {},
     "output_type": "execute_result"
    }
   ],
   "source": [
    "arr2[1,2]=100\n",
    "arr2"
   ]
  },
  {
   "cell_type": "code",
   "execution_count": 120,
   "id": "5a79a1cd",
   "metadata": {},
   "outputs": [
    {
     "name": "stdout",
     "output_type": "stream",
     "text": [
      "[26 22 34 10]\n"
     ]
    }
   ],
   "source": [
    "print(arr[0:4])"
   ]
  },
  {
   "cell_type": "code",
   "execution_count": 126,
   "id": "6ab94ea6",
   "metadata": {},
   "outputs": [],
   "source": [
    "newArr = arr2[:2,2:4]"
   ]
  },
  {
   "cell_type": "code",
   "execution_count": 127,
   "id": "c8577c4a",
   "metadata": {},
   "outputs": [
    {
     "data": {
      "text/plain": [
       "array([[ 15,  34],\n",
       "       [100,  38]])"
      ]
     },
     "execution_count": 127,
     "metadata": {},
     "output_type": "execute_result"
    }
   ],
   "source": [
    "newArr"
   ]
  },
  {
   "cell_type": "code",
   "execution_count": 128,
   "id": "e3747aef",
   "metadata": {},
   "outputs": [
    {
     "data": {
      "text/plain": [
       "array([[38, 38],\n",
       "       [19, 16]])"
      ]
     },
     "execution_count": 128,
     "metadata": {},
     "output_type": "execute_result"
    }
   ],
   "source": [
    "arr2[:2,:2]"
   ]
  },
  {
   "cell_type": "code",
   "execution_count": 132,
   "id": "3d6d9d31",
   "metadata": {},
   "outputs": [
    {
     "data": {
      "text/plain": [
       "array([[ 38,  15],\n",
       "       [ 16, 100]])"
      ]
     },
     "execution_count": 132,
     "metadata": {},
     "output_type": "execute_result"
    }
   ],
   "source": [
    "arr2[:2,1:3]"
   ]
  },
  {
   "cell_type": "code",
   "execution_count": null,
   "id": "4626a7db",
   "metadata": {},
   "outputs": [],
   "source": [
    "\n",
    "\n"
   ]
  },
  {
   "cell_type": "code",
   "execution_count": 139,
   "id": "962d514a",
   "metadata": {},
   "outputs": [],
   "source": [
    "arr3 = np.random.randint(1,10,(2,2,4))"
   ]
  },
  {
   "cell_type": "code",
   "execution_count": 140,
   "id": "00d06109",
   "metadata": {},
   "outputs": [
    {
     "data": {
      "text/plain": [
       "3"
      ]
     },
     "execution_count": 140,
     "metadata": {},
     "output_type": "execute_result"
    }
   ],
   "source": [
    "arr3.ndim"
   ]
  },
  {
   "cell_type": "code",
   "execution_count": 141,
   "id": "7f6066ec",
   "metadata": {},
   "outputs": [
    {
     "data": {
      "text/plain": [
       "array([[[3, 5, 9, 7],\n",
       "        [8, 8, 3, 3]],\n",
       "\n",
       "       [[3, 3, 1, 1],\n",
       "        [8, 5, 1, 2]]])"
      ]
     },
     "execution_count": 141,
     "metadata": {},
     "output_type": "execute_result"
    }
   ],
   "source": [
    "arr3"
   ]
  },
  {
   "cell_type": "code",
   "execution_count": 209,
   "id": "a7532fc0",
   "metadata": {},
   "outputs": [],
   "source": [
    "arr3 =np.array([[[1,2,3,4],[0,0,0,0]],[[0,0,0,0],[0,0,0,0]]])"
   ]
  },
  {
   "cell_type": "code",
   "execution_count": 210,
   "id": "e6c57863",
   "metadata": {},
   "outputs": [
    {
     "data": {
      "text/plain": [
       "array([[[1, 2, 3, 4],\n",
       "        [0, 0, 0, 0]],\n",
       "\n",
       "       [[0, 0, 0, 0],\n",
       "        [0, 0, 0, 0]]])"
      ]
     },
     "execution_count": 210,
     "metadata": {},
     "output_type": "execute_result"
    }
   ],
   "source": [
    "arr3"
   ]
  },
  {
   "cell_type": "code",
   "execution_count": 211,
   "id": "1437c401",
   "metadata": {},
   "outputs": [
    {
     "data": {
      "text/plain": [
       "3"
      ]
     },
     "execution_count": 211,
     "metadata": {},
     "output_type": "execute_result"
    }
   ],
   "source": [
    "arr3.ndim"
   ]
  },
  {
   "cell_type": "code",
   "execution_count": 212,
   "id": "9c7d5cb9",
   "metadata": {},
   "outputs": [],
   "source": [
    "# task-1\n",
    "arr3[0,1,3]=50"
   ]
  },
  {
   "cell_type": "code",
   "execution_count": 213,
   "id": "b789f3bd",
   "metadata": {},
   "outputs": [
    {
     "data": {
      "text/plain": [
       "array([[[ 1,  2,  3,  4],\n",
       "        [ 0,  0,  0, 50]],\n",
       "\n",
       "       [[ 0,  0,  0,  0],\n",
       "        [ 0,  0,  0,  0]]])"
      ]
     },
     "execution_count": 213,
     "metadata": {},
     "output_type": "execute_result"
    }
   ],
   "source": [
    "arr3"
   ]
  },
  {
   "cell_type": "code",
   "execution_count": 214,
   "id": "c4ed3cfd",
   "metadata": {},
   "outputs": [],
   "source": [
    "arr3[1,1,1]=1\n",
    "arr3[1,1,3]=1"
   ]
  },
  {
   "cell_type": "code",
   "execution_count": 215,
   "id": "d0865123",
   "metadata": {},
   "outputs": [
    {
     "data": {
      "text/plain": [
       "array([[[ 1,  2,  3,  4],\n",
       "        [ 0,  0,  0, 50]],\n",
       "\n",
       "       [[ 0,  0,  0,  0],\n",
       "        [ 0,  1,  0,  1]]])"
      ]
     },
     "execution_count": 215,
     "metadata": {},
     "output_type": "execute_result"
    }
   ],
   "source": [
    "arr3"
   ]
  },
  {
   "cell_type": "code",
   "execution_count": 260,
   "id": "f8b4f29e",
   "metadata": {},
   "outputs": [],
   "source": [
    "newArr=arr3[0,:2,2:]\n",
    "newArr = list(newArr)"
   ]
  },
  {
   "cell_type": "code",
   "execution_count": 261,
   "id": "1bcb41c3",
   "metadata": {},
   "outputs": [],
   "source": [
    "l1 =[1,1]"
   ]
  },
  {
   "cell_type": "code",
   "execution_count": 264,
   "id": "0ac5d94a",
   "metadata": {},
   "outputs": [
    {
     "name": "stderr",
     "output_type": "stream",
     "text": [
      "C:\\Users\\RAHUL SUTHAR\\AppData\\Local\\Temp\\ipykernel_2652\\2300095197.py:1: VisibleDeprecationWarning: Creating an ndarray from ragged nested sequences (which is a list-or-tuple of lists-or-tuples-or ndarrays with different lengths or shapes) is deprecated. If you meant to do this, you must specify 'dtype=object' when creating the ndarray.\n",
      "  newArr2 = np.array([[newArr],[l1]])\n"
     ]
    }
   ],
   "source": [
    "newArr2 = np.array([[newArr],[l1]])"
   ]
  },
  {
   "cell_type": "code",
   "execution_count": null,
   "id": "46a2c31c",
   "metadata": {},
   "outputs": [],
   "source": []
  },
  {
   "cell_type": "code",
   "execution_count": 265,
   "id": "372aed4f",
   "metadata": {},
   "outputs": [
    {
     "data": {
      "text/plain": [
       "3"
      ]
     },
     "execution_count": 265,
     "metadata": {},
     "output_type": "execute_result"
    }
   ],
   "source": [
    "newArr2.ndim"
   ]
  },
  {
   "cell_type": "code",
   "execution_count": 268,
   "id": "274be688",
   "metadata": {},
   "outputs": [],
   "source": [
    "\n"
   ]
  },
  {
   "cell_type": "code",
   "execution_count": 269,
   "id": "905503e8",
   "metadata": {},
   "outputs": [],
   "source": [
    "# view of array"
   ]
  },
  {
   "cell_type": "code",
   "execution_count": 272,
   "id": "905a96e1",
   "metadata": {},
   "outputs": [],
   "source": [
    "arr = np.random.randint(1,5,(2,5))"
   ]
  },
  {
   "cell_type": "code",
   "execution_count": 273,
   "id": "213e9d4f",
   "metadata": {},
   "outputs": [
    {
     "data": {
      "text/plain": [
       "array([[4, 3, 3, 3, 2],\n",
       "       [1, 2, 2, 4, 3]])"
      ]
     },
     "execution_count": 273,
     "metadata": {},
     "output_type": "execute_result"
    }
   ],
   "source": [
    "arr"
   ]
  },
  {
   "cell_type": "code",
   "execution_count": 274,
   "id": "e4f57d7b",
   "metadata": {},
   "outputs": [],
   "source": [
    "view_Arr=arr[:2,:2]"
   ]
  },
  {
   "cell_type": "code",
   "execution_count": 275,
   "id": "e5f4e5a3",
   "metadata": {},
   "outputs": [
    {
     "data": {
      "text/plain": [
       "array([[4, 3],\n",
       "       [1, 2]])"
      ]
     },
     "execution_count": 275,
     "metadata": {},
     "output_type": "execute_result"
    }
   ],
   "source": [
    "view_Arr\n"
   ]
  },
  {
   "cell_type": "code",
   "execution_count": 279,
   "id": "a32b1a62",
   "metadata": {},
   "outputs": [],
   "source": [
    "view_Arr[0,0] = 5\n",
    "# original array also change"
   ]
  },
  {
   "cell_type": "code",
   "execution_count": 280,
   "id": "d0bd9fd0",
   "metadata": {},
   "outputs": [
    {
     "data": {
      "text/plain": [
       "array([[5, 3],\n",
       "       [1, 2]])"
      ]
     },
     "execution_count": 280,
     "metadata": {},
     "output_type": "execute_result"
    }
   ],
   "source": [
    "view_Arr"
   ]
  },
  {
   "cell_type": "code",
   "execution_count": 281,
   "id": "46c5a267",
   "metadata": {},
   "outputs": [
    {
     "data": {
      "text/plain": [
       "array([[5, 3, 3, 3, 2],\n",
       "       [1, 2, 2, 4, 3]])"
      ]
     },
     "execution_count": 281,
     "metadata": {},
     "output_type": "execute_result"
    }
   ],
   "source": [
    "arr"
   ]
  },
  {
   "cell_type": "code",
   "execution_count": 282,
   "id": "3f528585",
   "metadata": {},
   "outputs": [],
   "source": [
    "# copy view"
   ]
  },
  {
   "cell_type": "code",
   "execution_count": 284,
   "id": "0822a713",
   "metadata": {},
   "outputs": [],
   "source": [
    "copy_view = arr[:2,:2].copy()"
   ]
  },
  {
   "cell_type": "code",
   "execution_count": 287,
   "id": "4ca3bf98",
   "metadata": {},
   "outputs": [
    {
     "data": {
      "text/plain": [
       "array([[ 5,  3],\n",
       "       [ 1, 10]])"
      ]
     },
     "execution_count": 287,
     "metadata": {},
     "output_type": "execute_result"
    }
   ],
   "source": [
    "copy_view[1,1]=10\n",
    "#original array not change\n",
    "copy_view"
   ]
  },
  {
   "cell_type": "code",
   "execution_count": 288,
   "id": "db3fc3d5",
   "metadata": {},
   "outputs": [
    {
     "data": {
      "text/plain": [
       "array([[5, 3, 3, 3, 2],\n",
       "       [1, 2, 2, 4, 3]])"
      ]
     },
     "execution_count": 288,
     "metadata": {},
     "output_type": "execute_result"
    }
   ],
   "source": [
    "arr"
   ]
  },
  {
   "cell_type": "code",
   "execution_count": null,
   "id": "2fd11483",
   "metadata": {},
   "outputs": [],
   "source": []
  }
 ],
 "metadata": {
  "kernelspec": {
   "display_name": "Python 3 (ipykernel)",
   "language": "python",
   "name": "python3"
  },
  "language_info": {
   "codemirror_mode": {
    "name": "ipython",
    "version": 3
   },
   "file_extension": ".py",
   "mimetype": "text/x-python",
   "name": "python",
   "nbconvert_exporter": "python",
   "pygments_lexer": "ipython3",
   "version": "3.9.12"
  }
 },
 "nbformat": 4,
 "nbformat_minor": 5
}
